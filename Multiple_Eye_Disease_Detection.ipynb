{
  "cells": [
    {
      "cell_type": "markdown",
      "metadata": {
        "id": "_NbQkEbVLne5"
      },
      "source": [
        "## 0. Importing PyTorch and setting up device-agnostic code"
      ]
    },
    {
      "cell_type": "code",
      "execution_count": 6,
      "metadata": {
        "colab": {
          "base_uri": "https://localhost:8080/"
        },
        "id": "yKMh0NcEJqSK",
        "outputId": "8e7919d9-8734-4fcd-e395-0cac71961fcf"
      },
      "outputs": [
        {
          "name": "stdout",
          "output_type": "stream",
          "text": [
            "2.1.0+cu121\n",
            "cuda\n"
          ]
        }
      ],
      "source": [
        "import torch\n",
        "from torch import nn\n",
        "\n",
        "print(torch.__version__)\n",
        "\n",
        "device = 'cuda' if torch.cuda.is_available() else 'cpu'\n",
        "print(device)"
      ]
    },
    {
      "cell_type": "code",
      "execution_count": 7,
      "metadata": {
        "colab": {
          "base_uri": "https://localhost:8080/"
        },
        "id": "uGyhaoHKf2cT",
        "outputId": "b757fa03-8921-4a88-862c-7ed799e34015"
      },
      "outputs": [
        {
          "name": "stdout",
          "output_type": "stream",
          "text": [
            "Tue May  7 11:54:47 2024       \n",
            "+-----------------------------------------------------------------------------------------+\n",
            "| NVIDIA-SMI 551.86                 Driver Version: 551.86         CUDA Version: 12.4     |\n",
            "|-----------------------------------------+------------------------+----------------------+\n",
            "| GPU  Name                     TCC/WDDM  | Bus-Id          Disp.A | Volatile Uncorr. ECC |\n",
            "| Fan  Temp   Perf          Pwr:Usage/Cap |           Memory-Usage | GPU-Util  Compute M. |\n",
            "|                                         |                        |               MIG M. |\n",
            "|=========================================+========================+======================|\n",
            "|   0  NVIDIA GeForce GTX 1650 Ti   WDDM  |   00000000:01:00.0 Off |                  N/A |\n",
            "| N/A   68C    P0             15W /   50W |     390MiB /   4096MiB |      2%      Default |\n",
            "|                                         |                        |                  N/A |\n",
            "+-----------------------------------------+------------------------+----------------------+\n",
            "                                                                                         \n",
            "+-----------------------------------------------------------------------------------------+\n",
            "| Processes:                                                                              |\n",
            "|  GPU   GI   CI        PID   Type   Process name                              GPU Memory |\n",
            "|        ID   ID                                                               Usage      |\n",
            "|=========================================================================================|\n",
            "|    0   N/A  N/A      1180    C+G   ...4.0_x64__cv1g1gvanyjgm\\WhatsApp.exe      N/A      |\n",
            "|    0   N/A  N/A      1616    C+G   C:\\Windows\\System32\\dwm.exe                 N/A      |\n",
            "|    0   N/A  N/A      1800    C+G   ...Programs\\Microsoft VS Code\\Code.exe      N/A      |\n",
            "|    0   N/A  N/A      3344    C+G   ...werToys\\PowerToys.PowerLauncher.exe      N/A      |\n",
            "|    0   N/A  N/A      3400    C+G   ...k6g\\QuickControls\\QuickControls.exe      N/A      |\n",
            "|    0   N/A  N/A      4432    C+G   ...y Games\\current\\service\\Service.exe      N/A      |\n",
            "|    0   N/A  N/A      6080    C+G   ...Google\\NearbyShare\\nearby_share.exe      N/A      |\n",
            "|    0   N/A  N/A      7364    C+G   ...CBS_cw5n1h2txyewy\\TextInputHost.exe      N/A      |\n",
            "|    0   N/A  N/A      8196    C+G   ...on\\124.0.2478.80\\msedgewebview2.exe      N/A      |\n",
            "|    0   N/A  N/A      8732    C+G   ...ys\\WinUI3Apps\\PowerToys.Peek.UI.exe      N/A      |\n",
            "|    0   N/A  N/A     10004    C+G   ...nt.CBS_cw5n1h2txyewy\\SearchHost.exe      N/A      |\n",
            "|    0   N/A  N/A     10116    C+G   ...2txyewy\\StartMenuExperienceHost.exe      N/A      |\n",
            "|    0   N/A  N/A     10676    C+G   ..._x64__3c1yjt4zspk6g\\BudsManager.exe      N/A      |\n",
            "|    0   N/A  N/A     11228    C+G   ...on\\124.0.2478.80\\msedgewebview2.exe      N/A      |\n",
            "|    0   N/A  N/A     13808    C+G   ...\\PowerToys\\PowerToys.FancyZones.exe      N/A      |\n",
            "|    0   N/A  N/A     14564    C+G   ...US\\ArmouryDevice\\asus_framework.exe      N/A      |\n",
            "+-----------------------------------------------------------------------------------------+\n"
          ]
        }
      ],
      "source": [
        "!nvidia-smi"
      ]
    },
    {
      "cell_type": "markdown",
      "metadata": {
        "id": "VSO8Xw4pgEFZ"
      },
      "source": [
        "## 1. Get Data\n",
        "\n",
        "#### [Original Datasets](https://www.kaggle.com/datasets/andrewmvd/ocular-disease-recognition-odir5k)\n",
        "Available is on Kaggle (click on above headline) which contains\n",
        "\n",
        "|  Eye Disease    | Count  |\n",
        "|-----------------|--------|\n",
        "| Normal          | 2873   |\n",
        "| Diabetes        | 1608   |\n",
        "| Glaucoma        | 568    |\n",
        "| Cataract        | 586    |\n",
        "| Age-related     | 532    |\n",
        "| Hypertension    | 256    |\n",
        "| Myopia          | 464    |\n",
        "| Other           | 708    |\n",
        "\n",
        "\n",
        "#### [Custom Datasets](https://drive.google.com/uc?id=1iNJpbR5LSsOUBZ-MYeavqJyRBMjSC8yg)\n",
        "Available on drive link (click on above headline) which were preprocessed and augmented using random crop, shear zoom in and zoom out, noneye images were added which contains random objects, aimals and plants images.\n",
        "\n",
        "| Eye Disease | Train Dataset | Test Dataset |\n",
        "|-------------|---------------|--------------|\n",
        "| Glaucoma    | 2016          | 200          |\n",
        "| Non-Eye     | 1985          | 200          |\n",
        "| Normal      | 2101          | 200          |\n",
        "| Cataract    | 2052          | 200          |\n",
        "| AMD         | 1858          | 200          |\n",
        "| Myopia      | 2008          | 200          |\n"
      ]
    },
    {
      "cell_type": "code",
      "execution_count": 5,
      "metadata": {
        "colab": {
          "base_uri": "https://localhost:8080/"
        },
        "id": "8hC6nO6Bvlqy",
        "outputId": "5a978ad9-6139-40e7-a09a-b27f3f10e522"
      },
      "outputs": [
        {
          "ename": "KeyboardInterrupt",
          "evalue": "",
          "output_type": "error",
          "traceback": [
            "\u001b[1;31m---------------------------------------------------------------------------\u001b[0m",
            "\u001b[1;31mKeyboardInterrupt\u001b[0m                         Traceback (most recent call last)",
            "Cell \u001b[1;32mIn[5], line 9\u001b[0m\n\u001b[0;32m      6\u001b[0m file_name \u001b[39m=\u001b[39m \u001b[39m'\u001b[39m\u001b[39meye_dataset.zip\u001b[39m\u001b[39m'\u001b[39m\n\u001b[0;32m      8\u001b[0m \u001b[39m# Download the file from Google Drive\u001b[39;00m\n\u001b[1;32m----> 9\u001b[0m gdown\u001b[39m.\u001b[39;49mdownload(file_url, file_name, quiet\u001b[39m=\u001b[39;49m\u001b[39mFalse\u001b[39;49;00m)\n\u001b[0;32m     10\u001b[0m extract_dir \u001b[39m=\u001b[39m \u001b[39m'\u001b[39m\u001b[39m./dataset\u001b[39m\u001b[39m'\u001b[39m\n\u001b[0;32m     12\u001b[0m \u001b[39m# Extract the zip file\u001b[39;00m\n",
            "File \u001b[1;32mc:\\Users\\siman\\AppData\\Local\\Programs\\Python\\Python311\\Lib\\site-packages\\gdown\\download.py:188\u001b[0m, in \u001b[0;36mdownload\u001b[1;34m(url, output, quiet, proxy, speed, use_cookies, verify, id, fuzzy, resume, format, user_agent, log_messages)\u001b[0m\n\u001b[0;32m    185\u001b[0m     is_gdrive_download_link \u001b[39m=\u001b[39m \u001b[39mTrue\u001b[39;00m\n\u001b[0;32m    187\u001b[0m \u001b[39mwhile\u001b[39;00m \u001b[39mTrue\u001b[39;00m:\n\u001b[1;32m--> 188\u001b[0m     res \u001b[39m=\u001b[39m sess\u001b[39m.\u001b[39;49mget(url, stream\u001b[39m=\u001b[39;49m\u001b[39mTrue\u001b[39;49;00m, verify\u001b[39m=\u001b[39;49mverify)\n\u001b[0;32m    190\u001b[0m     \u001b[39mif\u001b[39;00m \u001b[39mnot\u001b[39;00m (gdrive_file_id \u001b[39mand\u001b[39;00m is_gdrive_download_link):\n\u001b[0;32m    191\u001b[0m         \u001b[39mbreak\u001b[39;00m\n",
            "File \u001b[1;32mc:\\Users\\siman\\AppData\\Local\\Programs\\Python\\Python311\\Lib\\site-packages\\requests\\sessions.py:602\u001b[0m, in \u001b[0;36mSession.get\u001b[1;34m(self, url, **kwargs)\u001b[0m\n\u001b[0;32m    594\u001b[0m \u001b[39m\u001b[39m\u001b[39mr\u001b[39m\u001b[39m\"\"\"Sends a GET request. Returns :class:`Response` object.\u001b[39;00m\n\u001b[0;32m    595\u001b[0m \n\u001b[0;32m    596\u001b[0m \u001b[39m:param url: URL for the new :class:`Request` object.\u001b[39;00m\n\u001b[0;32m    597\u001b[0m \u001b[39m:param \\*\\*kwargs: Optional arguments that ``request`` takes.\u001b[39;00m\n\u001b[0;32m    598\u001b[0m \u001b[39m:rtype: requests.Response\u001b[39;00m\n\u001b[0;32m    599\u001b[0m \u001b[39m\"\"\"\u001b[39;00m\n\u001b[0;32m    601\u001b[0m kwargs\u001b[39m.\u001b[39msetdefault(\u001b[39m\"\u001b[39m\u001b[39mallow_redirects\u001b[39m\u001b[39m\"\u001b[39m, \u001b[39mTrue\u001b[39;00m)\n\u001b[1;32m--> 602\u001b[0m \u001b[39mreturn\u001b[39;00m \u001b[39mself\u001b[39;49m\u001b[39m.\u001b[39;49mrequest(\u001b[39m\"\u001b[39;49m\u001b[39mGET\u001b[39;49m\u001b[39m\"\u001b[39;49m, url, \u001b[39m*\u001b[39;49m\u001b[39m*\u001b[39;49mkwargs)\n",
            "File \u001b[1;32mc:\\Users\\siman\\AppData\\Local\\Programs\\Python\\Python311\\Lib\\site-packages\\requests\\sessions.py:589\u001b[0m, in \u001b[0;36mSession.request\u001b[1;34m(self, method, url, params, data, headers, cookies, files, auth, timeout, allow_redirects, proxies, hooks, stream, verify, cert, json)\u001b[0m\n\u001b[0;32m    584\u001b[0m send_kwargs \u001b[39m=\u001b[39m {\n\u001b[0;32m    585\u001b[0m     \u001b[39m\"\u001b[39m\u001b[39mtimeout\u001b[39m\u001b[39m\"\u001b[39m: timeout,\n\u001b[0;32m    586\u001b[0m     \u001b[39m\"\u001b[39m\u001b[39mallow_redirects\u001b[39m\u001b[39m\"\u001b[39m: allow_redirects,\n\u001b[0;32m    587\u001b[0m }\n\u001b[0;32m    588\u001b[0m send_kwargs\u001b[39m.\u001b[39mupdate(settings)\n\u001b[1;32m--> 589\u001b[0m resp \u001b[39m=\u001b[39m \u001b[39mself\u001b[39;49m\u001b[39m.\u001b[39;49msend(prep, \u001b[39m*\u001b[39;49m\u001b[39m*\u001b[39;49msend_kwargs)\n\u001b[0;32m    591\u001b[0m \u001b[39mreturn\u001b[39;00m resp\n",
            "File \u001b[1;32mc:\\Users\\siman\\AppData\\Local\\Programs\\Python\\Python311\\Lib\\site-packages\\requests\\sessions.py:725\u001b[0m, in \u001b[0;36mSession.send\u001b[1;34m(self, request, **kwargs)\u001b[0m\n\u001b[0;32m    722\u001b[0m \u001b[39mif\u001b[39;00m allow_redirects:\n\u001b[0;32m    723\u001b[0m     \u001b[39m# Redirect resolving generator.\u001b[39;00m\n\u001b[0;32m    724\u001b[0m     gen \u001b[39m=\u001b[39m \u001b[39mself\u001b[39m\u001b[39m.\u001b[39mresolve_redirects(r, request, \u001b[39m*\u001b[39m\u001b[39m*\u001b[39mkwargs)\n\u001b[1;32m--> 725\u001b[0m     history \u001b[39m=\u001b[39m [resp \u001b[39mfor\u001b[39;49;00m resp \u001b[39min\u001b[39;49;00m gen]\n\u001b[0;32m    726\u001b[0m \u001b[39melse\u001b[39;00m:\n\u001b[0;32m    727\u001b[0m     history \u001b[39m=\u001b[39m []\n",
            "File \u001b[1;32mc:\\Users\\siman\\AppData\\Local\\Programs\\Python\\Python311\\Lib\\site-packages\\requests\\sessions.py:725\u001b[0m, in \u001b[0;36m<listcomp>\u001b[1;34m(.0)\u001b[0m\n\u001b[0;32m    722\u001b[0m \u001b[39mif\u001b[39;00m allow_redirects:\n\u001b[0;32m    723\u001b[0m     \u001b[39m# Redirect resolving generator.\u001b[39;00m\n\u001b[0;32m    724\u001b[0m     gen \u001b[39m=\u001b[39m \u001b[39mself\u001b[39m\u001b[39m.\u001b[39mresolve_redirects(r, request, \u001b[39m*\u001b[39m\u001b[39m*\u001b[39mkwargs)\n\u001b[1;32m--> 725\u001b[0m     history \u001b[39m=\u001b[39m [resp \u001b[39mfor\u001b[39;49;00m resp \u001b[39min\u001b[39;49;00m gen]\n\u001b[0;32m    726\u001b[0m \u001b[39melse\u001b[39;00m:\n\u001b[0;32m    727\u001b[0m     history \u001b[39m=\u001b[39m []\n",
            "File \u001b[1;32mc:\\Users\\siman\\AppData\\Local\\Programs\\Python\\Python311\\Lib\\site-packages\\requests\\sessions.py:266\u001b[0m, in \u001b[0;36mSessionRedirectMixin.resolve_redirects\u001b[1;34m(self, resp, req, stream, timeout, verify, cert, proxies, yield_requests, **adapter_kwargs)\u001b[0m\n\u001b[0;32m    263\u001b[0m     \u001b[39myield\u001b[39;00m req\n\u001b[0;32m    264\u001b[0m \u001b[39melse\u001b[39;00m:\n\u001b[1;32m--> 266\u001b[0m     resp \u001b[39m=\u001b[39m \u001b[39mself\u001b[39;49m\u001b[39m.\u001b[39;49msend(\n\u001b[0;32m    267\u001b[0m         req,\n\u001b[0;32m    268\u001b[0m         stream\u001b[39m=\u001b[39;49mstream,\n\u001b[0;32m    269\u001b[0m         timeout\u001b[39m=\u001b[39;49mtimeout,\n\u001b[0;32m    270\u001b[0m         verify\u001b[39m=\u001b[39;49mverify,\n\u001b[0;32m    271\u001b[0m         cert\u001b[39m=\u001b[39;49mcert,\n\u001b[0;32m    272\u001b[0m         proxies\u001b[39m=\u001b[39;49mproxies,\n\u001b[0;32m    273\u001b[0m         allow_redirects\u001b[39m=\u001b[39;49m\u001b[39mFalse\u001b[39;49;00m,\n\u001b[0;32m    274\u001b[0m         \u001b[39m*\u001b[39;49m\u001b[39m*\u001b[39;49madapter_kwargs,\n\u001b[0;32m    275\u001b[0m     )\n\u001b[0;32m    277\u001b[0m     extract_cookies_to_jar(\u001b[39mself\u001b[39m\u001b[39m.\u001b[39mcookies, prepared_request, resp\u001b[39m.\u001b[39mraw)\n\u001b[0;32m    279\u001b[0m     \u001b[39m# extract redirect url, if any, for the next loop\u001b[39;00m\n",
            "File \u001b[1;32mc:\\Users\\siman\\AppData\\Local\\Programs\\Python\\Python311\\Lib\\site-packages\\requests\\sessions.py:703\u001b[0m, in \u001b[0;36mSession.send\u001b[1;34m(self, request, **kwargs)\u001b[0m\n\u001b[0;32m    700\u001b[0m start \u001b[39m=\u001b[39m preferred_clock()\n\u001b[0;32m    702\u001b[0m \u001b[39m# Send the request\u001b[39;00m\n\u001b[1;32m--> 703\u001b[0m r \u001b[39m=\u001b[39m adapter\u001b[39m.\u001b[39;49msend(request, \u001b[39m*\u001b[39;49m\u001b[39m*\u001b[39;49mkwargs)\n\u001b[0;32m    705\u001b[0m \u001b[39m# Total elapsed time of the request (approximately)\u001b[39;00m\n\u001b[0;32m    706\u001b[0m elapsed \u001b[39m=\u001b[39m preferred_clock() \u001b[39m-\u001b[39m start\n",
            "File \u001b[1;32mc:\\Users\\siman\\AppData\\Local\\Programs\\Python\\Python311\\Lib\\site-packages\\requests\\adapters.py:486\u001b[0m, in \u001b[0;36mHTTPAdapter.send\u001b[1;34m(self, request, stream, timeout, verify, cert, proxies)\u001b[0m\n\u001b[0;32m    483\u001b[0m     timeout \u001b[39m=\u001b[39m TimeoutSauce(connect\u001b[39m=\u001b[39mtimeout, read\u001b[39m=\u001b[39mtimeout)\n\u001b[0;32m    485\u001b[0m \u001b[39mtry\u001b[39;00m:\n\u001b[1;32m--> 486\u001b[0m     resp \u001b[39m=\u001b[39m conn\u001b[39m.\u001b[39;49murlopen(\n\u001b[0;32m    487\u001b[0m         method\u001b[39m=\u001b[39;49mrequest\u001b[39m.\u001b[39;49mmethod,\n\u001b[0;32m    488\u001b[0m         url\u001b[39m=\u001b[39;49murl,\n\u001b[0;32m    489\u001b[0m         body\u001b[39m=\u001b[39;49mrequest\u001b[39m.\u001b[39;49mbody,\n\u001b[0;32m    490\u001b[0m         headers\u001b[39m=\u001b[39;49mrequest\u001b[39m.\u001b[39;49mheaders,\n\u001b[0;32m    491\u001b[0m         redirect\u001b[39m=\u001b[39;49m\u001b[39mFalse\u001b[39;49;00m,\n\u001b[0;32m    492\u001b[0m         assert_same_host\u001b[39m=\u001b[39;49m\u001b[39mFalse\u001b[39;49;00m,\n\u001b[0;32m    493\u001b[0m         preload_content\u001b[39m=\u001b[39;49m\u001b[39mFalse\u001b[39;49;00m,\n\u001b[0;32m    494\u001b[0m         decode_content\u001b[39m=\u001b[39;49m\u001b[39mFalse\u001b[39;49;00m,\n\u001b[0;32m    495\u001b[0m         retries\u001b[39m=\u001b[39;49m\u001b[39mself\u001b[39;49m\u001b[39m.\u001b[39;49mmax_retries,\n\u001b[0;32m    496\u001b[0m         timeout\u001b[39m=\u001b[39;49mtimeout,\n\u001b[0;32m    497\u001b[0m         chunked\u001b[39m=\u001b[39;49mchunked,\n\u001b[0;32m    498\u001b[0m     )\n\u001b[0;32m    500\u001b[0m \u001b[39mexcept\u001b[39;00m (ProtocolError, \u001b[39mOSError\u001b[39;00m) \u001b[39mas\u001b[39;00m err:\n\u001b[0;32m    501\u001b[0m     \u001b[39mraise\u001b[39;00m \u001b[39mConnectionError\u001b[39;00m(err, request\u001b[39m=\u001b[39mrequest)\n",
            "File \u001b[1;32mc:\\Users\\siman\\AppData\\Local\\Programs\\Python\\Python311\\Lib\\site-packages\\urllib3\\connectionpool.py:703\u001b[0m, in \u001b[0;36mHTTPConnectionPool.urlopen\u001b[1;34m(self, method, url, body, headers, retries, redirect, assert_same_host, timeout, pool_timeout, release_conn, chunked, body_pos, **response_kw)\u001b[0m\n\u001b[0;32m    700\u001b[0m     \u001b[39mself\u001b[39m\u001b[39m.\u001b[39m_prepare_proxy(conn)\n\u001b[0;32m    702\u001b[0m \u001b[39m# Make the request on the httplib connection object.\u001b[39;00m\n\u001b[1;32m--> 703\u001b[0m httplib_response \u001b[39m=\u001b[39m \u001b[39mself\u001b[39;49m\u001b[39m.\u001b[39;49m_make_request(\n\u001b[0;32m    704\u001b[0m     conn,\n\u001b[0;32m    705\u001b[0m     method,\n\u001b[0;32m    706\u001b[0m     url,\n\u001b[0;32m    707\u001b[0m     timeout\u001b[39m=\u001b[39;49mtimeout_obj,\n\u001b[0;32m    708\u001b[0m     body\u001b[39m=\u001b[39;49mbody,\n\u001b[0;32m    709\u001b[0m     headers\u001b[39m=\u001b[39;49mheaders,\n\u001b[0;32m    710\u001b[0m     chunked\u001b[39m=\u001b[39;49mchunked,\n\u001b[0;32m    711\u001b[0m )\n\u001b[0;32m    713\u001b[0m \u001b[39m# If we're going to release the connection in ``finally:``, then\u001b[39;00m\n\u001b[0;32m    714\u001b[0m \u001b[39m# the response doesn't need to know about the connection. Otherwise\u001b[39;00m\n\u001b[0;32m    715\u001b[0m \u001b[39m# it will also try to release it and we'll have a double-release\u001b[39;00m\n\u001b[0;32m    716\u001b[0m \u001b[39m# mess.\u001b[39;00m\n\u001b[0;32m    717\u001b[0m response_conn \u001b[39m=\u001b[39m conn \u001b[39mif\u001b[39;00m \u001b[39mnot\u001b[39;00m release_conn \u001b[39melse\u001b[39;00m \u001b[39mNone\u001b[39;00m\n",
            "File \u001b[1;32mc:\\Users\\siman\\AppData\\Local\\Programs\\Python\\Python311\\Lib\\site-packages\\urllib3\\connectionpool.py:386\u001b[0m, in \u001b[0;36mHTTPConnectionPool._make_request\u001b[1;34m(self, conn, method, url, timeout, chunked, **httplib_request_kw)\u001b[0m\n\u001b[0;32m    384\u001b[0m \u001b[39m# Trigger any extra validation we need to do.\u001b[39;00m\n\u001b[0;32m    385\u001b[0m \u001b[39mtry\u001b[39;00m:\n\u001b[1;32m--> 386\u001b[0m     \u001b[39mself\u001b[39;49m\u001b[39m.\u001b[39;49m_validate_conn(conn)\n\u001b[0;32m    387\u001b[0m \u001b[39mexcept\u001b[39;00m (SocketTimeout, BaseSSLError) \u001b[39mas\u001b[39;00m e:\n\u001b[0;32m    388\u001b[0m     \u001b[39m# Py2 raises this as a BaseSSLError, Py3 raises it as socket timeout.\u001b[39;00m\n\u001b[0;32m    389\u001b[0m     \u001b[39mself\u001b[39m\u001b[39m.\u001b[39m_raise_timeout(err\u001b[39m=\u001b[39me, url\u001b[39m=\u001b[39murl, timeout_value\u001b[39m=\u001b[39mconn\u001b[39m.\u001b[39mtimeout)\n",
            "File \u001b[1;32mc:\\Users\\siman\\AppData\\Local\\Programs\\Python\\Python311\\Lib\\site-packages\\urllib3\\connectionpool.py:1042\u001b[0m, in \u001b[0;36mHTTPSConnectionPool._validate_conn\u001b[1;34m(self, conn)\u001b[0m\n\u001b[0;32m   1040\u001b[0m \u001b[39m# Force connect early to allow us to validate the connection.\u001b[39;00m\n\u001b[0;32m   1041\u001b[0m \u001b[39mif\u001b[39;00m \u001b[39mnot\u001b[39;00m \u001b[39mgetattr\u001b[39m(conn, \u001b[39m\"\u001b[39m\u001b[39msock\u001b[39m\u001b[39m\"\u001b[39m, \u001b[39mNone\u001b[39;00m):  \u001b[39m# AppEngine might not have  `.sock`\u001b[39;00m\n\u001b[1;32m-> 1042\u001b[0m     conn\u001b[39m.\u001b[39;49mconnect()\n\u001b[0;32m   1044\u001b[0m \u001b[39mif\u001b[39;00m \u001b[39mnot\u001b[39;00m conn\u001b[39m.\u001b[39mis_verified:\n\u001b[0;32m   1045\u001b[0m     warnings\u001b[39m.\u001b[39mwarn(\n\u001b[0;32m   1046\u001b[0m         (\n\u001b[0;32m   1047\u001b[0m             \u001b[39m\"\u001b[39m\u001b[39mUnverified HTTPS request is being made to host \u001b[39m\u001b[39m'\u001b[39m\u001b[39m%s\u001b[39;00m\u001b[39m'\u001b[39m\u001b[39m. \u001b[39m\u001b[39m\"\u001b[39m\n\u001b[1;32m   (...)\u001b[0m\n\u001b[0;32m   1052\u001b[0m         InsecureRequestWarning,\n\u001b[0;32m   1053\u001b[0m     )\n",
            "File \u001b[1;32mc:\\Users\\siman\\AppData\\Local\\Programs\\Python\\Python311\\Lib\\site-packages\\urllib3\\connection.py:414\u001b[0m, in \u001b[0;36mHTTPSConnection.connect\u001b[1;34m(self)\u001b[0m\n\u001b[0;32m    405\u001b[0m \u001b[39mif\u001b[39;00m (\n\u001b[0;32m    406\u001b[0m     \u001b[39mnot\u001b[39;00m \u001b[39mself\u001b[39m\u001b[39m.\u001b[39mca_certs\n\u001b[0;32m    407\u001b[0m     \u001b[39mand\u001b[39;00m \u001b[39mnot\u001b[39;00m \u001b[39mself\u001b[39m\u001b[39m.\u001b[39mca_cert_dir\n\u001b[1;32m   (...)\u001b[0m\n\u001b[0;32m    410\u001b[0m     \u001b[39mand\u001b[39;00m \u001b[39mhasattr\u001b[39m(context, \u001b[39m\"\u001b[39m\u001b[39mload_default_certs\u001b[39m\u001b[39m\"\u001b[39m)\n\u001b[0;32m    411\u001b[0m ):\n\u001b[0;32m    412\u001b[0m     context\u001b[39m.\u001b[39mload_default_certs()\n\u001b[1;32m--> 414\u001b[0m \u001b[39mself\u001b[39m\u001b[39m.\u001b[39msock \u001b[39m=\u001b[39m ssl_wrap_socket(\n\u001b[0;32m    415\u001b[0m     sock\u001b[39m=\u001b[39;49mconn,\n\u001b[0;32m    416\u001b[0m     keyfile\u001b[39m=\u001b[39;49m\u001b[39mself\u001b[39;49m\u001b[39m.\u001b[39;49mkey_file,\n\u001b[0;32m    417\u001b[0m     certfile\u001b[39m=\u001b[39;49m\u001b[39mself\u001b[39;49m\u001b[39m.\u001b[39;49mcert_file,\n\u001b[0;32m    418\u001b[0m     key_password\u001b[39m=\u001b[39;49m\u001b[39mself\u001b[39;49m\u001b[39m.\u001b[39;49mkey_password,\n\u001b[0;32m    419\u001b[0m     ca_certs\u001b[39m=\u001b[39;49m\u001b[39mself\u001b[39;49m\u001b[39m.\u001b[39;49mca_certs,\n\u001b[0;32m    420\u001b[0m     ca_cert_dir\u001b[39m=\u001b[39;49m\u001b[39mself\u001b[39;49m\u001b[39m.\u001b[39;49mca_cert_dir,\n\u001b[0;32m    421\u001b[0m     ca_cert_data\u001b[39m=\u001b[39;49m\u001b[39mself\u001b[39;49m\u001b[39m.\u001b[39;49mca_cert_data,\n\u001b[0;32m    422\u001b[0m     server_hostname\u001b[39m=\u001b[39;49mserver_hostname,\n\u001b[0;32m    423\u001b[0m     ssl_context\u001b[39m=\u001b[39;49mcontext,\n\u001b[0;32m    424\u001b[0m     tls_in_tls\u001b[39m=\u001b[39;49mtls_in_tls,\n\u001b[0;32m    425\u001b[0m )\n\u001b[0;32m    427\u001b[0m \u001b[39m# If we're using all defaults and the connection\u001b[39;00m\n\u001b[0;32m    428\u001b[0m \u001b[39m# is TLSv1 or TLSv1.1 we throw a DeprecationWarning\u001b[39;00m\n\u001b[0;32m    429\u001b[0m \u001b[39m# for the host.\u001b[39;00m\n\u001b[0;32m    430\u001b[0m \u001b[39mif\u001b[39;00m (\n\u001b[0;32m    431\u001b[0m     default_ssl_context\n\u001b[0;32m    432\u001b[0m     \u001b[39mand\u001b[39;00m \u001b[39mself\u001b[39m\u001b[39m.\u001b[39mssl_version \u001b[39mis\u001b[39;00m \u001b[39mNone\u001b[39;00m\n\u001b[0;32m    433\u001b[0m     \u001b[39mand\u001b[39;00m \u001b[39mhasattr\u001b[39m(\u001b[39mself\u001b[39m\u001b[39m.\u001b[39msock, \u001b[39m\"\u001b[39m\u001b[39mversion\u001b[39m\u001b[39m\"\u001b[39m)\n\u001b[0;32m    434\u001b[0m     \u001b[39mand\u001b[39;00m \u001b[39mself\u001b[39m\u001b[39m.\u001b[39msock\u001b[39m.\u001b[39mversion() \u001b[39min\u001b[39;00m {\u001b[39m\"\u001b[39m\u001b[39mTLSv1\u001b[39m\u001b[39m\"\u001b[39m, \u001b[39m\"\u001b[39m\u001b[39mTLSv1.1\u001b[39m\u001b[39m\"\u001b[39m}\n\u001b[0;32m    435\u001b[0m ):\n",
            "File \u001b[1;32mc:\\Users\\siman\\AppData\\Local\\Programs\\Python\\Python311\\Lib\\site-packages\\urllib3\\util\\ssl_.py:402\u001b[0m, in \u001b[0;36mssl_wrap_socket\u001b[1;34m(sock, keyfile, certfile, cert_reqs, ca_certs, server_hostname, ssl_version, ciphers, ssl_context, ca_cert_dir, key_password, ca_cert_data, tls_in_tls)\u001b[0m\n\u001b[0;32m    400\u001b[0m \u001b[39mif\u001b[39;00m ca_certs \u001b[39mor\u001b[39;00m ca_cert_dir \u001b[39mor\u001b[39;00m ca_cert_data:\n\u001b[0;32m    401\u001b[0m     \u001b[39mtry\u001b[39;00m:\n\u001b[1;32m--> 402\u001b[0m         context\u001b[39m.\u001b[39;49mload_verify_locations(ca_certs, ca_cert_dir, ca_cert_data)\n\u001b[0;32m    403\u001b[0m     \u001b[39mexcept\u001b[39;00m (\u001b[39mIOError\u001b[39;00m, \u001b[39mOSError\u001b[39;00m) \u001b[39mas\u001b[39;00m e:\n\u001b[0;32m    404\u001b[0m         \u001b[39mraise\u001b[39;00m SSLError(e)\n",
            "\u001b[1;31mKeyboardInterrupt\u001b[0m: "
          ]
        }
      ],
      "source": [
        "import gdown\n",
        "import zipfile\n",
        "import os\n",
        "\n",
        "file_url = 'https://drive.google.com/uc?id=1iNJpbR5LSsOUBZ-MYeavqJyRBMjSC8yg'\n",
        "file_name = 'eye_dataset.zip'\n",
        "\n",
        "# Download the file from Google Drive\n",
        "gdown.download(file_url, file_name, quiet=False)\n",
        "extract_dir = './dataset'\n",
        "\n",
        "# Extract the zip file\n",
        "with zipfile.ZipFile(file_name, 'r') as zip_ref:\n",
        "    zip_ref.extractall(extract_dir)\n",
        "\n",
        "# Remove the zip file after extraction\n",
        "os.remove(file_name)\n",
        "print(\"Files extracted successfully to:\", extract_dir)"
      ]
    },
    {
      "cell_type": "code",
      "execution_count": 8,
      "metadata": {
        "colab": {
          "base_uri": "https://localhost:8080/"
        },
        "id": "B9QdVZPEdT6H",
        "outputId": "0636c760-7872-44e5-f712-963c9a34f447"
      },
      "outputs": [
        {
          "name": "stdout",
          "output_type": "stream",
          "text": [
            "There are 1 directories and 0 images in 'C:/Users/siman/OneDrive/Desktop/New 8th sem Project/dataset'.\n",
            "There are 2 directories and 0 images in 'C:/Users/siman/OneDrive/Desktop/New 8th sem Project/dataset\\Eye_Diseases'.\n",
            "There are 6 directories and 0 images in 'C:/Users/siman/OneDrive/Desktop/New 8th sem Project/dataset\\Eye_Diseases\\test'.\n",
            "There are 0 directories and 200 images in 'C:/Users/siman/OneDrive/Desktop/New 8th sem Project/dataset\\Eye_Diseases\\test\\amd'.\n",
            "There are 0 directories and 200 images in 'C:/Users/siman/OneDrive/Desktop/New 8th sem Project/dataset\\Eye_Diseases\\test\\cataract'.\n",
            "There are 0 directories and 200 images in 'C:/Users/siman/OneDrive/Desktop/New 8th sem Project/dataset\\Eye_Diseases\\test\\glucoma'.\n",
            "There are 0 directories and 200 images in 'C:/Users/siman/OneDrive/Desktop/New 8th sem Project/dataset\\Eye_Diseases\\test\\myopia'.\n",
            "There are 0 directories and 200 images in 'C:/Users/siman/OneDrive/Desktop/New 8th sem Project/dataset\\Eye_Diseases\\test\\noneye'.\n",
            "There are 0 directories and 200 images in 'C:/Users/siman/OneDrive/Desktop/New 8th sem Project/dataset\\Eye_Diseases\\test\\normal'.\n",
            "There are 6 directories and 0 images in 'C:/Users/siman/OneDrive/Desktop/New 8th sem Project/dataset\\Eye_Diseases\\train'.\n",
            "There are 0 directories and 1858 images in 'C:/Users/siman/OneDrive/Desktop/New 8th sem Project/dataset\\Eye_Diseases\\train\\amd'.\n",
            "There are 0 directories and 2052 images in 'C:/Users/siman/OneDrive/Desktop/New 8th sem Project/dataset\\Eye_Diseases\\train\\cataract'.\n",
            "There are 0 directories and 2016 images in 'C:/Users/siman/OneDrive/Desktop/New 8th sem Project/dataset\\Eye_Diseases\\train\\glucoma'.\n",
            "There are 0 directories and 2008 images in 'C:/Users/siman/OneDrive/Desktop/New 8th sem Project/dataset\\Eye_Diseases\\train\\myopia'.\n",
            "There are 0 directories and 1985 images in 'C:/Users/siman/OneDrive/Desktop/New 8th sem Project/dataset\\Eye_Diseases\\train\\noneye'.\n",
            "There are 0 directories and 2101 images in 'C:/Users/siman/OneDrive/Desktop/New 8th sem Project/dataset\\Eye_Diseases\\train\\normal'.\n"
          ]
        }
      ],
      "source": [
        "from pathlib import Path\n",
        "import os\n",
        "\n",
        "# Setup path to data folder\n",
        "image_path = \"C:/Users/siman/OneDrive/Desktop/New 8th sem Project/dataset\"\n",
        "\n",
        "def walk_through_dir(dir_path):\n",
        "  \"\"\"Walks through dir_path returning its contents.\"\"\"\n",
        "  for dirpath, dirnames, filenames in os.walk(dir_path):\n",
        "    print(f\"There are {len(dirnames)} directories and {len(filenames)} images in '{dirpath}'.\")\n",
        "\n",
        "walk_through_dir(image_path)"
      ]
    },
    {
      "cell_type": "markdown",
      "metadata": {
        "id": "3jvSdpUnQ9W6"
      },
      "source": [
        "## 2. Data Preparation (Visualization)"
      ]
    },
    {
      "cell_type": "code",
      "execution_count": 9,
      "metadata": {
        "colab": {
          "base_uri": "https://localhost:8080/",
          "height": 310
        },
        "id": "OldQ4vmSPrrr",
        "outputId": "4b88e375-e70e-464a-84c6-aaf993faf6f0"
      },
      "outputs": [
        {
          "name": "stdout",
          "output_type": "stream",
          "text": [
            "There are 1 directories and 0 images in 'C:\\Users\\siman\\OneDrive\\Desktop\\New 8th sem Project\\dataset'.\n",
            "There are 2 directories and 0 images in 'C:\\Users\\siman\\OneDrive\\Desktop\\New 8th sem Project\\dataset\\Eye_Diseases'.\n",
            "There are 6 directories and 0 images in 'C:\\Users\\siman\\OneDrive\\Desktop\\New 8th sem Project\\dataset\\Eye_Diseases\\test'.\n",
            "There are 0 directories and 200 images in 'C:\\Users\\siman\\OneDrive\\Desktop\\New 8th sem Project\\dataset\\Eye_Diseases\\test\\amd'.\n",
            "There are 0 directories and 200 images in 'C:\\Users\\siman\\OneDrive\\Desktop\\New 8th sem Project\\dataset\\Eye_Diseases\\test\\cataract'.\n",
            "There are 0 directories and 200 images in 'C:\\Users\\siman\\OneDrive\\Desktop\\New 8th sem Project\\dataset\\Eye_Diseases\\test\\glucoma'.\n",
            "There are 0 directories and 200 images in 'C:\\Users\\siman\\OneDrive\\Desktop\\New 8th sem Project\\dataset\\Eye_Diseases\\test\\myopia'.\n",
            "There are 0 directories and 200 images in 'C:\\Users\\siman\\OneDrive\\Desktop\\New 8th sem Project\\dataset\\Eye_Diseases\\test\\noneye'.\n",
            "There are 0 directories and 200 images in 'C:\\Users\\siman\\OneDrive\\Desktop\\New 8th sem Project\\dataset\\Eye_Diseases\\test\\normal'.\n",
            "There are 6 directories and 0 images in 'C:\\Users\\siman\\OneDrive\\Desktop\\New 8th sem Project\\dataset\\Eye_Diseases\\train'.\n",
            "There are 0 directories and 1858 images in 'C:\\Users\\siman\\OneDrive\\Desktop\\New 8th sem Project\\dataset\\Eye_Diseases\\train\\amd'.\n",
            "There are 0 directories and 2052 images in 'C:\\Users\\siman\\OneDrive\\Desktop\\New 8th sem Project\\dataset\\Eye_Diseases\\train\\cataract'.\n",
            "There are 0 directories and 2016 images in 'C:\\Users\\siman\\OneDrive\\Desktop\\New 8th sem Project\\dataset\\Eye_Diseases\\train\\glucoma'.\n",
            "There are 0 directories and 2008 images in 'C:\\Users\\siman\\OneDrive\\Desktop\\New 8th sem Project\\dataset\\Eye_Diseases\\train\\myopia'.\n",
            "There are 0 directories and 1985 images in 'C:\\Users\\siman\\OneDrive\\Desktop\\New 8th sem Project\\dataset\\Eye_Diseases\\train\\noneye'.\n",
            "There are 0 directories and 2101 images in 'C:\\Users\\siman\\OneDrive\\Desktop\\New 8th sem Project\\dataset\\Eye_Diseases\\train\\normal'.\n",
            "Random image path: C:\\Users\\siman\\OneDrive\\Desktop\\New 8th sem Project\\dataset\\Eye_Diseases\\train\\amd\\aug_0_3633.jpg\n",
            "Image Class: amd\n",
            "Image Height: 224\n",
            "Image Width: 224\n"
          ]
        }
      ],
      "source": [
        "from pathlib import Path\n",
        "import random\n",
        "from PIL import Image\n",
        "\n",
        "# Setup path to data folder\n",
        "image_path = Path(\"C:/Users/siman/OneDrive/Desktop/New 8th sem Project/dataset\")\n",
        "\n",
        "def walk_through_dir(dir_path):\n",
        "    \"\"\"Walks through dir_path returning its contents.\"\"\"\n",
        "    for dirpath, dirnames, filenames in os.walk(dir_path):\n",
        "        print(f\"There are {len(dirnames)} directories and {len(filenames)} images in '{dirpath}'.\")\n",
        "\n",
        "walk_through_dir(image_path)\n",
        "\n",
        "# List all image paths using pathlib.Path\n",
        "image_path_list = list(image_path.glob(\"**/*.jpg\"))\n",
        "\n",
        "# Choose a random image path\n",
        "random_image_path = random.choice(image_path_list)\n",
        "\n",
        "# Get the class name (the name of the parent directory)\n",
        "image_class = random_image_path.parent.stem\n",
        "\n",
        "# Open the image\n",
        "img = Image.open(random_image_path)\n",
        "\n",
        "# Print metadata\n",
        "print(f'Random image path: {random_image_path}')\n",
        "print(f'Image Class: {image_class}')\n",
        "print(f'Image Height: {img.height}')\n",
        "print(f'Image Width: {img.width}')\n",
        "img.show()\n"
      ]
    },
    {
      "cell_type": "code",
      "execution_count": 10,
      "metadata": {
        "colab": {
          "base_uri": "https://localhost:8080/",
          "height": 441
        },
        "id": "-BXbw2yXR_DR",
        "outputId": "10ab8bbc-c94b-4cc1-95fd-c92b0297dfd2"
      },
      "outputs": [
        {
          "data": {
            "image/png": "[encoded data removed]",
            "text/plain": [
              "<Figure size 600x500 with 1 Axes>"
            ]
          },
          "metadata": {},
          "output_type": "display_data"
        }
      ],
      "source": [
        "# Visualizing using matplotliib\n",
        "import numpy as np\n",
        "import matplotlib.pyplot as plt\n",
        "\n",
        "# Turn the image into an array\n",
        "img_as_array = np.asarray(img)\n",
        "\n",
        "# Plot the image with matplotlib\n",
        "fig = plt.figure(figsize=(6, 5))\n",
        "plt.imshow(img_as_array)\n",
        "plt.title(f\"Image class: {image_class} | Image shape: {img_as_array.shape} -> [height, width, color_channels]\", fontsize = 10)\n",
        "plt.axis(False)\n",
        "plt.show()"
      ]
    },
    {
      "cell_type": "code",
      "execution_count": 11,
      "metadata": {
        "colab": {
          "base_uri": "https://localhost:8080/",
          "height": 264
        },
        "id": "nz9LaJzASsf3",
        "outputId": "5e6f31be-6a56-4e01-8ef5-e2378ca755b3"
      },
      "outputs": [
        {
          "data": {
            "text/plain": [
              "array([[[136,  88,  74],\n",
              "        [136,  88,  74],\n",
              "        [135,  88,  72],\n",
              "        ...,\n",
              "        [  0,   0,   0],\n",
              "        [  0,   0,   0],\n",
              "        [  0,   0,   0]],\n",
              "\n",
              "       [[126,  79,  63],\n",
              "        [125,  78,  62],\n",
              "        [124,  77,  59],\n",
              "        ...,\n",
              "        [  0,   0,   0],\n",
              "        [  0,   0,   0],\n",
              "        [  0,   0,   0]],\n",
              "\n",
              "       [[125,  79,  56],\n",
              "        [126,  80,  57],\n",
              "        [128,  82,  59],\n",
              "        ...,\n",
              "        [  0,   0,   0],\n",
              "        [  0,   0,   0],\n",
              "        [  0,   0,   0]],\n",
              "\n",
              "       ...,\n",
              "\n",
              "       [[  0,   0,   0],\n",
              "        [  0,   0,   0],\n",
              "        [  0,   0,   0],\n",
              "        ...,\n",
              "        [  0,   0,   0],\n",
              "        [  0,   0,   0],\n",
              "        [  0,   0,   0]],\n",
              "\n",
              "       [[  0,   0,   0],\n",
              "        [  0,   0,   0],\n",
              "        [  0,   0,   0],\n",
              "        ...,\n",
              "        [  0,   0,   0],\n",
              "        [  0,   0,   0],\n",
              "        [  0,   0,   0]],\n",
              "\n",
              "       [[  0,   0,   0],\n",
              "        [  0,   0,   0],\n",
              "        [  0,   0,   0],\n",
              "        ...,\n",
              "        [  0,   0,   0],\n",
              "        [  0,   0,   0],\n",
              "        [  0,   0,   0]]], dtype=uint8)"
            ]
          },
          "execution_count": 11,
          "metadata": {},
          "output_type": "execute_result"
        }
      ],
      "source": [
        "img_as_array"
      ]
    },
    {
      "cell_type": "markdown",
      "metadata": {
        "id": "7yPG9BrUTRNn"
      },
      "source": [
        "## 3. Transforming data"
      ]
    },
    {
      "cell_type": "code",
      "execution_count": 12,
      "metadata": {
        "colab": {
          "base_uri": "https://localhost:8080/"
        },
        "id": "_p71XOjgTfVC",
        "outputId": "0c4235de-b92a-45c8-c25f-5006d76fb20a"
      },
      "outputs": [
        {
          "name": "stdout",
          "output_type": "stream",
          "text": [
            "0.16.0+cu121\n"
          ]
        },
        {
          "data": {
            "text/plain": [
              "(tensor([[[0.5333, 0.5333, 0.5294,  ..., 0.0000, 0.0000, 0.0000],\n",
              "          [0.4941, 0.4902, 0.4863,  ..., 0.0000, 0.0000, 0.0000],\n",
              "          [0.4902, 0.4941, 0.5020,  ..., 0.0000, 0.0000, 0.0000],\n",
              "          ...,\n",
              "          [0.0000, 0.0000, 0.0000,  ..., 0.0000, 0.0000, 0.0000],\n",
              "          [0.0000, 0.0000, 0.0000,  ..., 0.0000, 0.0000, 0.0000],\n",
              "          [0.0000, 0.0000, 0.0000,  ..., 0.0000, 0.0000, 0.0000]],\n",
              " \n",
              "         [[0.3451, 0.3451, 0.3451,  ..., 0.0000, 0.0000, 0.0000],\n",
              "          [0.3098, 0.3059, 0.3020,  ..., 0.0000, 0.0000, 0.0000],\n",
              "          [0.3098, 0.3137, 0.3216,  ..., 0.0000, 0.0000, 0.0000],\n",
              "          ...,\n",
              "          [0.0000, 0.0000, 0.0000,  ..., 0.0000, 0.0000, 0.0000],\n",
              "          [0.0000, 0.0000, 0.0000,  ..., 0.0000, 0.0000, 0.0000],\n",
              "          [0.0000, 0.0000, 0.0000,  ..., 0.0000, 0.0000, 0.0000]],\n",
              " \n",
              "         [[0.2902, 0.2902, 0.2824,  ..., 0.0000, 0.0000, 0.0000],\n",
              "          [0.2471, 0.2431, 0.2314,  ..., 0.0000, 0.0000, 0.0000],\n",
              "          [0.2196, 0.2235, 0.2314,  ..., 0.0000, 0.0000, 0.0000],\n",
              "          ...,\n",
              "          [0.0000, 0.0000, 0.0000,  ..., 0.0000, 0.0000, 0.0000],\n",
              "          [0.0000, 0.0000, 0.0000,  ..., 0.0000, 0.0000, 0.0000],\n",
              "          [0.0000, 0.0000, 0.0000,  ..., 0.0000, 0.0000, 0.0000]]]),\n",
              " torch.Size([3, 224, 224]),\n",
              " torch.float32)"
            ]
          },
          "execution_count": 12,
          "metadata": {},
          "output_type": "execute_result"
        }
      ],
      "source": [
        "import torchvision\n",
        "from torchvision import datasets\n",
        "import torchvision.transforms as transforms\n",
        "\n",
        "print(torchvision.__version__)\n",
        "\n",
        "# Transform image\n",
        "data_transform = transforms.Compose([\n",
        "    # Resize our images to 224x224\n",
        "    # transforms.Resize(size = (224, 224)),\n",
        "    transforms.ToTensor()\n",
        "])\n",
        "\n",
        "\n",
        "transformed_data = data_transform(img)\n",
        "transformed_data, transformed_data.shape, transformed_data.dtype"
      ]
    },
    {
      "cell_type": "markdown",
      "metadata": {
        "id": "44tuyhobk0Z4"
      },
      "source": [
        "## 4. Loading data with `ImageFolder`"
      ]
    },
    {
      "cell_type": "code",
      "execution_count": 44,
      "metadata": {
        "colab": {
          "base_uri": "https://localhost:8080/"
        },
        "id": "LSWvV7U4xQoi",
        "outputId": "efa73f24-f425-4ee5-899e-d2fb0ccfef31"
      },
      "outputs": [
        {
          "data": {
            "text/plain": [
              "('dataset/Eye_Diseases/train', 'dataset/Eye_Diseases/test')"
            ]
          },
          "execution_count": 44,
          "metadata": {},
          "output_type": "execute_result"
        }
      ],
      "source": [
        "# Setup train and test paths\n",
        "train_dir = 'dataset/Eye_Diseases/train'\n",
        "test_dir = 'dataset/Eye_Diseases/test'\n",
        "\n",
        "train_dir, test_dir"
      ]
    },
    {
      "cell_type": "code",
      "execution_count": 46,
      "metadata": {
        "colab": {
          "base_uri": "https://localhost:8080/"
        },
        "id": "0wBQCb6IUAD3",
        "outputId": "cc66d572-5871-4f05-8d7a-eacd8a29ed0d"
      },
      "outputs": [
        {
          "data": {
            "text/plain": [
              "(Dataset ImageFolder\n",
              "     Number of datapoints: 12020\n",
              "     Root location: dataset/Eye_Diseases/train\n",
              "     StandardTransform\n",
              " Transform: Compose(\n",
              "                ToTensor()\n",
              "            ),\n",
              " Dataset ImageFolder\n",
              "     Number of datapoints: 1200\n",
              "     Root location: dataset/Eye_Diseases/test\n",
              "     StandardTransform\n",
              " Transform: Compose(\n",
              "                ToTensor()\n",
              "            ))"
            ]
          },
          "execution_count": 46,
          "metadata": {},
          "output_type": "execute_result"
        }
      ],
      "source": [
        "train_data = datasets.ImageFolder(root = train_dir,\n",
        "                                  transform = data_transform, # Transforms input data into tensors\n",
        "                                  target_transform = None)  # Transform labels into none\n",
        "\n",
        "test_data = datasets.ImageFolder(root = test_dir,\n",
        "                                 transform = data_transform)\n",
        "\n",
        "train_data, test_data"
      ]
    },
    {
      "cell_type": "code",
      "execution_count": 47,
      "metadata": {
        "colab": {
          "base_uri": "https://localhost:8080/"
        },
        "id": "47pXhmjIU2Cy",
        "outputId": "9a1e73b6-3419-46a8-e2f9-968c2e92a29e"
      },
      "outputs": [
        {
          "data": {
            "text/plain": [
              "['amd', 'cataract', 'glucoma', 'myopia', 'noneye', 'normal']"
            ]
          },
          "execution_count": 47,
          "metadata": {},
          "output_type": "execute_result"
        }
      ],
      "source": [
        "# Get class names as lists\n",
        "class_names = train_data.classes\n",
        "class_names"
      ]
    },
    {
      "cell_type": "code",
      "execution_count": 48,
      "metadata": {
        "colab": {
          "base_uri": "https://localhost:8080/"
        },
        "id": "5f3RfV2iUlK_",
        "outputId": "38d2c70b-c205-4043-a167-583af72b4a10"
      },
      "outputs": [
        {
          "data": {
            "text/plain": [
              "{'amd': 0, 'cataract': 1, 'glucoma': 2, 'myopia': 3, 'noneye': 4, 'normal': 5}"
            ]
          },
          "execution_count": 48,
          "metadata": {},
          "output_type": "execute_result"
        }
      ],
      "source": [
        "# Get class names as dict\n",
        "class_dict = train_data.class_to_idx\n",
        "class_dict"
      ]
    },
    {
      "cell_type": "code",
      "execution_count": 49,
      "metadata": {
        "colab": {
          "base_uri": "https://localhost:8080/"
        },
        "id": "uvU_RSA5VJwt",
        "outputId": "ad1367d8-3912-491b-9bea-3b1453fd1e84"
      },
      "outputs": [
        {
          "data": {
            "text/plain": [
              "[('dataset/Eye_Diseases/train\\\\amd\\\\102_left.jpg', 0),\n",
              " ('dataset/Eye_Diseases/train\\\\cataract\\\\2139_right.jpg', 1),\n",
              " ('dataset/Eye_Diseases/train\\\\glucoma\\\\1269_right.jpg', 2),\n",
              " ('dataset/Eye_Diseases/train\\\\myopia\\\\1543_right.jpg', 3),\n",
              " ('dataset/Eye_Diseases/train\\\\noneye\\\\067.jpg', 4),\n",
              " ('dataset/Eye_Diseases/train\\\\normal\\\\2365_left.jpg', 5)]"
            ]
          },
          "execution_count": 49,
          "metadata": {},
          "output_type": "execute_result"
        }
      ],
      "source": [
        "train_data.samples[:12000:2000]"
      ]
    },
    {
      "cell_type": "code",
      "execution_count": 50,
      "metadata": {
        "colab": {
          "base_uri": "https://localhost:8080/"
        },
        "id": "UNmljOD1VNdK",
        "outputId": "8d8769a3-fd17-4fbb-d941-516035545b9c"
      },
      "outputs": [
        {
          "data": {
            "text/plain": [
              "(tensor([[[0., 0., 0.,  ..., 0., 0., 0.],\n",
              "          [0., 0., 0.,  ..., 0., 0., 0.],\n",
              "          [0., 0., 0.,  ..., 0., 0., 0.],\n",
              "          ...,\n",
              "          [0., 0., 0.,  ..., 0., 0., 0.],\n",
              "          [0., 0., 0.,  ..., 0., 0., 0.],\n",
              "          [0., 0., 0.,  ..., 0., 0., 0.]],\n",
              " \n",
              "         [[0., 0., 0.,  ..., 0., 0., 0.],\n",
              "          [0., 0., 0.,  ..., 0., 0., 0.],\n",
              "          [0., 0., 0.,  ..., 0., 0., 0.],\n",
              "          ...,\n",
              "          [0., 0., 0.,  ..., 0., 0., 0.],\n",
              "          [0., 0., 0.,  ..., 0., 0., 0.],\n",
              "          [0., 0., 0.,  ..., 0., 0., 0.]],\n",
              " \n",
              "         [[0., 0., 0.,  ..., 0., 0., 0.],\n",
              "          [0., 0., 0.,  ..., 0., 0., 0.],\n",
              "          [0., 0., 0.,  ..., 0., 0., 0.],\n",
              "          ...,\n",
              "          [0., 0., 0.,  ..., 0., 0., 0.],\n",
              "          [0., 0., 0.,  ..., 0., 0., 0.],\n",
              "          [0., 0., 0.,  ..., 0., 0., 0.]]]),\n",
              " torch.float32,\n",
              " 0,\n",
              " int,\n",
              " 'amd')"
            ]
          },
          "execution_count": 50,
          "metadata": {},
          "output_type": "execute_result"
        }
      ],
      "source": [
        "# Index on the train_data Dataset to get a single iamge and label\n",
        "img, label = train_data[0][0], train_data[0][1]\n",
        "\n",
        "img, img.dtype, label, type(label), class_names[label]"
      ]
    },
    {
      "cell_type": "code",
      "execution_count": 51,
      "metadata": {
        "colab": {
          "base_uri": "https://localhost:8080/"
        },
        "id": "1z8ycuLYVVIP",
        "outputId": "b8ae92eb-30ba-4b80-bf99-605bb29ac980"
      },
      "outputs": [
        {
          "data": {
            "text/plain": [
              "(torch.Size([3, 224, 224]), torch.Size([224, 224, 3]))"
            ]
          },
          "execution_count": 51,
          "metadata": {},
          "output_type": "execute_result"
        }
      ],
      "source": [
        "# Rearrange the order of dimensions\n",
        "img_permute = img.permute(1, 2, 0)\n",
        "img.shape, img_permute.shape"
      ]
    },
    {
      "cell_type": "code",
      "execution_count": 53,
      "metadata": {
        "colab": {
          "base_uri": "https://localhost:8080/",
          "height": 292
        },
        "id": "m6HvrIC0VeTZ",
        "outputId": "add2f157-bbca-4782-9164-2c50c147f50c"
      },
      "outputs": [
        {
          "data": {
            "image/png": "[encoded data removed]",
            "text/plain": [
              "<Figure size 300x300 with 1 Axes>"
            ]
          },
          "metadata": {},
          "output_type": "display_data"
        }
      ],
      "source": [
        "# Plot the image\n",
        "plt.figure(figsize = (3, 3))\n",
        "plt.imshow(img_permute)\n",
        "plt.axis(\"off\")\n",
        "plt.title(class_names[label], fontsize = 16);"
      ]
    },
    {
      "cell_type": "markdown",
      "metadata": {
        "id": "z84H9L2AlAX7"
      },
      "source": [
        "## 5. Turn loaded images into `Dataloaders`"
      ]
    },
    {
      "cell_type": "code",
      "execution_count": 22,
      "metadata": {
        "colab": {
          "base_uri": "https://localhost:8080/"
        },
        "id": "VgCmu2EdYpY3",
        "outputId": "fee8f98d-b5a5-4650-802d-7979e69a79e8"
      },
      "outputs": [
        {
          "data": {
            "text/plain": [
              "(376, 38)"
            ]
          },
          "execution_count": 22,
          "metadata": {},
          "output_type": "execute_result"
        }
      ],
      "source": [
        "# Train and test dataloaders\n",
        "from torch.utils.data import DataLoader\n",
        "\n",
        "BATCH_SIZE = 32\n",
        "train_dataloader = DataLoader(dataset = train_data,\n",
        "                              batch_size = BATCH_SIZE,\n",
        "                              num_workers = 1,\n",
        "                              shuffle = True)\n",
        "\n",
        "test_dataloader = DataLoader(dataset = test_data,\n",
        "                             batch_size = BATCH_SIZE,\n",
        "                             num_workers = 1,\n",
        "                             shuffle = False)\n",
        "\n",
        "len(train_dataloader), len(test_dataloader)"
      ]
    },
    {
      "cell_type": "code",
      "execution_count": 23,
      "metadata": {
        "colab": {
          "base_uri": "https://localhost:8080/"
        },
        "id": "_e7lGMjulD66",
        "outputId": "09e06521-0612-4a6f-a1cb-5b331eec6282"
      },
      "outputs": [
        {
          "data": {
            "text/plain": [
              "(torch.Size([32, 3, 224, 224]), torch.Size([32]))"
            ]
          },
          "execution_count": 23,
          "metadata": {},
          "output_type": "execute_result"
        }
      ],
      "source": [
        "img, label = next(iter(train_dataloader))\n",
        "\n",
        "img.shape, label.shape     # {img.shape} -> [batch_size, color_channels, height, width]"
      ]
    },
    {
      "cell_type": "markdown",
      "metadata": {
        "id": "nvwZyt3-qe56"
      },
      "source": [
        "## 6. Build Model from scratch using `TinyVGG` as Base Model\n",
        "\n",
        "<img src = \"https://miro.medium.com/v2/resize:fit:850/1*B_ZaaaBg2njhp8SThjCufA.png\">"
      ]
    },
    {
      "cell_type": "code",
      "execution_count": 25,
      "metadata": {
        "id": "Hyp-F-oblGti"
      },
      "outputs": [],
      "source": [
        "import torch\n",
        "import torch.nn as nn\n",
        "class ImprovedTinyVGGModel(nn.Module):\n",
        "    def __init__(self, input_shape, hidden_units, output_shape):\n",
        "        super(ImprovedTinyVGGModel, self).__init__()\n",
        "        self.conv_block_1 = nn.Sequential(\n",
        "            nn.Conv2d(input_shape, hidden_units, kernel_size=3, stride=1, padding=1),\n",
        "            nn.ReLU(),\n",
        "            nn.Conv2d(hidden_units, hidden_units, kernel_size=3, stride=1, padding=1),\n",
        "            nn.ReLU(),\n",
        "            nn.MaxPool2d(2),\n",
        "            nn.BatchNorm2d(hidden_units),\n",
        "            nn.Dropout(0.2)  # Dropout for regularization\n",
        "        )\n",
        "        self.conv_block_2 = nn.Sequential(\n",
        "            nn.Conv2d(hidden_units, 4 * hidden_units, kernel_size=3, stride=1, padding=1),\n",
        "            nn.ReLU(),\n",
        "            nn.Conv2d(4 * hidden_units, 4 * hidden_units, kernel_size=3, stride=1, padding=1),\n",
        "            nn.ReLU(),\n",
        "            nn.MaxPool2d(2),\n",
        "            nn.BatchNorm2d(4 * hidden_units),\n",
        "            # nn.Dropout(0.2)\n",
        "        )\n",
        "        self.conv_block_3 = nn.Sequential(\n",
        "            nn.Conv2d(4 * hidden_units, 4 * hidden_units, kernel_size=3, stride=1, padding=1),\n",
        "            nn.ReLU(),\n",
        "            nn.Conv2d(4 * hidden_units, 2 * hidden_units, kernel_size=3, stride=1, padding=1),\n",
        "            nn.ReLU(),\n",
        "            nn.MaxPool2d(2),\n",
        "            nn.BatchNorm2d(2 * hidden_units),\n",
        "            nn.Dropout(0.2)\n",
        "        )\n",
        "        self.conv_block_4 = nn.Sequential(\n",
        "            nn.Conv2d(2 * hidden_units, hidden_units, kernel_size=3, stride=1, padding=1),\n",
        "            nn.ReLU(),\n",
        "            nn.Conv2d(hidden_units, output_shape, kernel_size=3, stride=1, padding=1),\n",
        "            nn.ReLU(),\n",
        "            nn.MaxPool2d(2),\n",
        "            nn.BatchNorm2d(output_shape),\n",
        "            # nn.Dropout(0.2)\n",
        "        )\n",
        "        self.classifier = nn.Sequential(\n",
        "            nn.Flatten(),\n",
        "            nn.Linear(1176, hidden_units),\n",
        "            nn.ReLU(),\n",
        "            nn.Dropout(0.5),\n",
        "            nn.Linear(hidden_units, output_shape)\n",
        "        )\n",
        "\n",
        "    def forward(self, x):\n",
        "        x = self.conv_block_1(x)\n",
        "        x = self.conv_block_2(x)\n",
        "        x = self.conv_block_3(x)\n",
        "        x = self.conv_block_4(x)\n",
        "        x = self.classifier(x)\n",
        "        return x"
      ]
    },
    {
      "cell_type": "code",
      "execution_count": null,
      "metadata": {
        "colab": {
          "base_uri": "https://localhost:8080/"
        },
        "id": "ZrBmX7VXldmb",
        "outputId": "40ba2e81-1a3c-42e5-f1c1-fbc012eb2862"
      },
      "outputs": [
        {
          "name": "stdout",
          "output_type": "stream",
          "text": [
            "Collecting torchinfo\n",
            "  Downloading torchinfo-1.8.0-py3-none-any.whl.metadata (21 kB)\n",
            "Downloading torchinfo-1.8.0-py3-none-any.whl (23 kB)\n",
            "Installing collected packages: torchinfo\n",
            "Successfully installed torchinfo-1.8.0\n"
          ]
        }
      ],
      "source": [
        "# Install torchinfo, import if it's available\n",
        "try:\n",
        "  import torchinfo\n",
        "except:\n",
        "  !pip install torchinfo\n",
        "  import torchinfo"
      ]
    },
    {
      "cell_type": "code",
      "execution_count": 26,
      "metadata": {
        "colab": {
          "base_uri": "https://localhost:8080/"
        },
        "id": "GML2Km12lYGM",
        "outputId": "44b68222-b908-4f1d-939c-1db9d16ddd96"
      },
      "outputs": [
        {
          "data": {
            "text/plain": [
              "==========================================================================================\n",
              "Layer (type:depth-idx)                   Output Shape              Param #\n",
              "==========================================================================================\n",
              "ImprovedTinyVGGModel                     [1, 6]                    --\n",
              "├─Sequential: 1-1                        [1, 48, 112, 112]         --\n",
              "│    └─Conv2d: 2-1                       [1, 48, 224, 224]         1,344\n",
              "│    └─ReLU: 2-2                         [1, 48, 224, 224]         --\n",
              "│    └─Conv2d: 2-3                       [1, 48, 224, 224]         20,784\n",
              "│    └─ReLU: 2-4                         [1, 48, 224, 224]         --\n",
              "│    └─MaxPool2d: 2-5                    [1, 48, 112, 112]         --\n",
              "│    └─BatchNorm2d: 2-6                  [1, 48, 112, 112]         96\n",
              "│    └─Dropout: 2-7                      [1, 48, 112, 112]         --\n",
              "├─Sequential: 1-2                        [1, 192, 56, 56]          --\n",
              "│    └─Conv2d: 2-8                       [1, 192, 112, 112]        83,136\n",
              "│    └─ReLU: 2-9                         [1, 192, 112, 112]        --\n",
              "│    └─Conv2d: 2-10                      [1, 192, 112, 112]        331,968\n",
              "│    └─ReLU: 2-11                        [1, 192, 112, 112]        --\n",
              "│    └─MaxPool2d: 2-12                   [1, 192, 56, 56]          --\n",
              "│    └─BatchNorm2d: 2-13                 [1, 192, 56, 56]          384\n",
              "├─Sequential: 1-3                        [1, 96, 28, 28]           --\n",
              "│    └─Conv2d: 2-14                      [1, 192, 56, 56]          331,968\n",
              "│    └─ReLU: 2-15                        [1, 192, 56, 56]          --\n",
              "│    └─Conv2d: 2-16                      [1, 96, 56, 56]           165,984\n",
              "│    └─ReLU: 2-17                        [1, 96, 56, 56]           --\n",
              "│    └─MaxPool2d: 2-18                   [1, 96, 28, 28]           --\n",
              "│    └─BatchNorm2d: 2-19                 [1, 96, 28, 28]           192\n",
              "│    └─Dropout: 2-20                     [1, 96, 28, 28]           --\n",
              "├─Sequential: 1-4                        [1, 6, 14, 14]            --\n",
              "│    └─Conv2d: 2-21                      [1, 48, 28, 28]           41,520\n",
              "│    └─ReLU: 2-22                        [1, 48, 28, 28]           --\n",
              "│    └─Conv2d: 2-23                      [1, 6, 28, 28]            2,598\n",
              "│    └─ReLU: 2-24                        [1, 6, 28, 28]            --\n",
              "│    └─MaxPool2d: 2-25                   [1, 6, 14, 14]            --\n",
              "│    └─BatchNorm2d: 2-26                 [1, 6, 14, 14]            12\n",
              "├─Sequential: 1-5                        [1, 6]                    --\n",
              "│    └─Flatten: 2-27                     [1, 1176]                 --\n",
              "│    └─Linear: 2-28                      [1, 48]                   56,496\n",
              "│    └─ReLU: 2-29                        [1, 48]                   --\n",
              "│    └─Dropout: 2-30                     [1, 48]                   --\n",
              "│    └─Linear: 2-31                      [1, 6]                    294\n",
              "==========================================================================================\n",
              "Total params: 1,036,776\n",
              "Trainable params: 1,036,776\n",
              "Non-trainable params: 0\n",
              "Total mult-adds (Units.GIGABYTES): 7.91\n",
              "==========================================================================================\n",
              "Input size (MB): 0.60\n",
              "Forward/backward pass size (MB): 94.88\n",
              "Params size (MB): 4.15\n",
              "Estimated Total Size (MB): 99.63\n",
              "=========================================================================================="
            ]
          },
          "execution_count": 26,
          "metadata": {},
          "output_type": "execute_result"
        }
      ],
      "source": [
        "from torchinfo import summary\n",
        "\n",
        "# Define the device to use (GPU if available, otherwise CPU)\n",
        "device = torch.device(\"cuda\" if torch.cuda.is_available() else \"cpu\")\n",
        "\n",
        "# Instance of Improved TinyVGG\n",
        "model = ImprovedTinyVGGModel(3, 48, len(class_names)).to(device)   # (input_shape, hidden_units, output_shape)\n",
        "summary(model, input_size=[1, 3, 224, 224])"
      ]
    },
    {
      "cell_type": "code",
      "execution_count": 33,
      "metadata": {
        "colab": {
          "base_uri": "https://localhost:8080/"
        },
        "id": "GK1rU218rt7_",
        "outputId": "526397b0-69ff-46b0-816d-fbc2246318dc"
      },
      "outputs": [
        {
          "name": "stdout",
          "output_type": "stream",
          "text": [
            "torch.Size([32, 6])\n"
          ]
        }
      ],
      "source": [
        "# Move input data to the same device as the model\n",
        "img = img.to(device)\n",
        "\n",
        "# Perform a forward pass\n",
        "output = model(img)\n",
        "\n",
        "# Print the shape of the output\n",
        "print(output.shape)\n"
      ]
    },
    {
      "cell_type": "markdown",
      "metadata": {
        "id": "fHDmoQdWq5U6"
      },
      "source": [
        "## 7. Create Train/Test Loop Function"
      ]
    },
    {
      "cell_type": "code",
      "execution_count": 55,
      "metadata": {
        "id": "bU5q3D_6q9ON"
      },
      "outputs": [],
      "source": [
        "def train_step(model, dataloader, loss_fn, optimizer):\n",
        "    model.train()\n",
        "    train_loss, train_acc = 0, 0\n",
        "\n",
        "    # Loop through data loader data batches\n",
        "    for batch, (X, y) in enumerate(dataloader):\n",
        "        X, y = X.to(device), y.to(device)\n",
        "        y_pred = model(X)\n",
        "\n",
        "        loss = loss_fn(y_pred, y)\n",
        "        train_loss += loss.item()\n",
        "\n",
        "        optimizer.zero_grad()\n",
        "        loss.backward()\n",
        "        optimizer.step()\n",
        "\n",
        "        # Calculate and accumulate accuracy metric across all batches\n",
        "        y_pred_class = torch.argmax(torch.softmax(y_pred, dim=1), dim=1)\n",
        "        train_acc += (y_pred_class == y).sum().item()/len(y_pred)\n",
        "\n",
        "    # Adjust metrics to get average loss and accuracy per batch\n",
        "    train_loss = train_loss / len(dataloader)\n",
        "    train_acc = train_acc / len(dataloader)\n",
        "    return train_loss, train_acc\n",
        "\n",
        "def test_step(model, dataloader, loss_fn):\n",
        "    model.eval()\n",
        "    test_loss, test_acc = 0, 0\n",
        "\n",
        "    # Turn on inference\n",
        "    with torch.inference_mode():\n",
        "        for batch, (X, y) in enumerate(dataloader):\n",
        "            X, y = X.to(device), y.to(device)\n",
        "\n",
        "            test_pred_logits = model(X)\n",
        "            loss = loss_fn(test_pred_logits, y)\n",
        "            test_loss += loss.item()\n",
        "\n",
        "            # Calculate and accumulate accuracy\n",
        "            test_pred_labels = test_pred_logits.argmax(dim=1)\n",
        "            test_acc += ((test_pred_labels == y).sum().item()/len(test_pred_labels))\n",
        "\n",
        "    # Adjust metrics to get average loss and accuracy per batch\n",
        "    test_loss = test_loss / len(dataloader)\n",
        "    test_acc = test_acc / len(dataloader)\n",
        "    return test_loss, test_acc"
      ]
    },
    {
      "cell_type": "code",
      "execution_count": 56,
      "metadata": {
        "id": "MNjBBk0SlmvY"
      },
      "outputs": [],
      "source": [
        "from tqdm.auto import tqdm\n",
        "\n",
        "def train(model, train_dataloader, test_dataloader, optimizer, loss_fn, epochs):\n",
        "\n",
        "  # Create a empty results dictionary\n",
        "  results = {\"train_loss\": [],\n",
        "             \"train_acc\": [],\n",
        "             \"test_loss\":[],\n",
        "             \"test_acc\": []}\n",
        "\n",
        "  # Loop through training and testing steps for no of epochs\n",
        "  for epoch in tqdm(range(epochs)):\n",
        "    train_loss, train_acc = train_step(model = model,\n",
        "                                       dataloader = train_dataloader,\n",
        "                                       optimizer = optimizer,\n",
        "                                       loss_fn = loss_fn)\n",
        "\n",
        "    test_loss, test_acc = test_step(model = model,\n",
        "                                     dataloader = test_dataloader,\n",
        "                                     loss_fn = loss_fn)\n",
        "\n",
        "    print(f'Epoch: {epoch} | Train loss: {train_loss:.4f} - Train acc: {(train_acc*100):.2f}% -  Test loss: {test_loss:.4f} - Test acc: {(test_acc*100):.2f}%')\n",
        "\n",
        "    # Update results dictionary\n",
        "    results[\"train_loss\"].append(train_loss)\n",
        "    results[\"train_acc\"].append(train_acc)\n",
        "    results[\"test_loss\"].append(test_loss)\n",
        "    results[\"test_acc\"].append(test_acc)\n",
        "\n",
        "  return results"
      ]
    },
    {
      "cell_type": "markdown",
      "metadata": {
        "id": "1yMC8_dOxnNH"
      },
      "source": [
        "## 8. Train and Evaluate the Model"
      ]
    },
    {
      "cell_type": "code",
      "execution_count": 57,
      "metadata": {
        "id": "PknmUQysloCu"
      },
      "outputs": [],
      "source": [
        "import torch.nn as nn\n",
        "import torch.optim as optim\n",
        "\n",
        "# Setup loss function and optimizer\n",
        "loss_fn = nn.CrossEntropyLoss()\n",
        "optimizer = optim.Adam(model.parameters(), lr=0.001)\n"
      ]
    },
    {
      "cell_type": "code",
      "execution_count": 59,
      "metadata": {
        "colab": {
          "base_uri": "https://localhost:8080/",
          "height": 153,
          "referenced_widgets": [
            "3b046b4ec3e64be68b8a118491228f2f",
            "9b3fd2ad59f245c98cbbe96dc5cb7bcd",
            "6a47699299c5466e94d991f6c86dc505",
            "5722d02650834ad8a0efa3d0b87adc4a",
            "f5898bb152004677a49f0615e5110b35",
            "db68390cec4247f1821f2413da9aea66",
            "860b2e52d20b4457ac41448e1a851523",
            "a71c03b627f747b4a22a33d706364e6a",
            "e11b282bb68248da86e76a29b359dff2",
            "fb57e83523cc46e08ff2ed9c4e70c404",
            "93d7239388be41e697b2073a7ef01890"
          ]
        },
        "id": "G0r27PnVhh0l",
        "outputId": "206a394f-b480-4c70-d725-12fcbcb69f6a"
      },
      "outputs": [
        {
          "name": "stderr",
          "output_type": "stream",
          "text": [
            "  0%|          | 0/50 [02:56<?, ?it/s]\n"
          ]
        },
        {
          "ename": "KeyboardInterrupt",
          "evalue": "",
          "output_type": "error",
          "traceback": [
            "\u001b[1;31m---------------------------------------------------------------------------\u001b[0m",
            "\u001b[1;31mKeyboardInterrupt\u001b[0m                         Traceback (most recent call last)",
            "Cell \u001b[1;32mIn[59], line 10\u001b[0m\n\u001b[0;32m      7\u001b[0m start_time \u001b[39m=\u001b[39m timer()\n\u001b[0;32m      9\u001b[0m \u001b[39m# Train model\u001b[39;00m\n\u001b[1;32m---> 10\u001b[0m model_results \u001b[39m=\u001b[39m train(model \u001b[39m=\u001b[39;49m model,\n\u001b[0;32m     11\u001b[0m                       train_dataloader \u001b[39m=\u001b[39;49m train_dataloader,\n\u001b[0;32m     12\u001b[0m                       test_dataloader \u001b[39m=\u001b[39;49m test_dataloader,\n\u001b[0;32m     13\u001b[0m                       optimizer \u001b[39m=\u001b[39;49m optimizer,\n\u001b[0;32m     14\u001b[0m                       loss_fn \u001b[39m=\u001b[39;49m loss_fn,\n\u001b[0;32m     15\u001b[0m                       epochs \u001b[39m=\u001b[39;49m EPOCHS)\n\u001b[0;32m     17\u001b[0m \u001b[39m# End the timer and print duration of training\u001b[39;00m\n\u001b[0;32m     18\u001b[0m end_time \u001b[39m=\u001b[39m timer()\n",
            "Cell \u001b[1;32mIn[56], line 13\u001b[0m, in \u001b[0;36mtrain\u001b[1;34m(model, train_dataloader, test_dataloader, optimizer, loss_fn, epochs)\u001b[0m\n\u001b[0;32m     11\u001b[0m \u001b[39m# Loop through training and testing steps for no of epochs\u001b[39;00m\n\u001b[0;32m     12\u001b[0m \u001b[39mfor\u001b[39;00m epoch \u001b[39min\u001b[39;00m tqdm(\u001b[39mrange\u001b[39m(epochs)):\n\u001b[1;32m---> 13\u001b[0m   train_loss, train_acc \u001b[39m=\u001b[39m train_step(model \u001b[39m=\u001b[39;49m model,\n\u001b[0;32m     14\u001b[0m                                      dataloader \u001b[39m=\u001b[39;49m train_dataloader,\n\u001b[0;32m     15\u001b[0m                                      optimizer \u001b[39m=\u001b[39;49m optimizer,\n\u001b[0;32m     16\u001b[0m                                      loss_fn \u001b[39m=\u001b[39;49m loss_fn)\n\u001b[0;32m     18\u001b[0m   test_loss, test_acc \u001b[39m=\u001b[39m test_step(model \u001b[39m=\u001b[39m model,\n\u001b[0;32m     19\u001b[0m                                    dataloader \u001b[39m=\u001b[39m test_dataloader,\n\u001b[0;32m     20\u001b[0m                                    loss_fn \u001b[39m=\u001b[39m loss_fn)\n\u001b[0;32m     22\u001b[0m   \u001b[39mprint\u001b[39m(\u001b[39mf\u001b[39m\u001b[39m'\u001b[39m\u001b[39mEpoch: \u001b[39m\u001b[39m{\u001b[39;00mepoch\u001b[39m}\u001b[39;00m\u001b[39m | Train loss: \u001b[39m\u001b[39m{\u001b[39;00mtrain_loss\u001b[39m:\u001b[39;00m\u001b[39m.4f\u001b[39m\u001b[39m}\u001b[39;00m\u001b[39m - Train acc: \u001b[39m\u001b[39m{\u001b[39;00m(train_acc\u001b[39m*\u001b[39m\u001b[39m100\u001b[39m)\u001b[39m:\u001b[39;00m\u001b[39m.2f\u001b[39m\u001b[39m}\u001b[39;00m\u001b[39m% -  Test loss: \u001b[39m\u001b[39m{\u001b[39;00mtest_loss\u001b[39m:\u001b[39;00m\u001b[39m.4f\u001b[39m\u001b[39m}\u001b[39;00m\u001b[39m - Test acc: \u001b[39m\u001b[39m{\u001b[39;00m(test_acc\u001b[39m*\u001b[39m\u001b[39m100\u001b[39m)\u001b[39m:\u001b[39;00m\u001b[39m.2f\u001b[39m\u001b[39m}\u001b[39;00m\u001b[39m%\u001b[39m\u001b[39m'\u001b[39m)\n",
            "Cell \u001b[1;32mIn[55], line 11\u001b[0m, in \u001b[0;36mtrain_step\u001b[1;34m(model, dataloader, loss_fn, optimizer)\u001b[0m\n\u001b[0;32m      8\u001b[0m y_pred \u001b[39m=\u001b[39m model(X)\n\u001b[0;32m     10\u001b[0m loss \u001b[39m=\u001b[39m loss_fn(y_pred, y)\n\u001b[1;32m---> 11\u001b[0m train_loss \u001b[39m+\u001b[39m\u001b[39m=\u001b[39m loss\u001b[39m.\u001b[39;49mitem()\n\u001b[0;32m     13\u001b[0m optimizer\u001b[39m.\u001b[39mzero_grad()\n\u001b[0;32m     14\u001b[0m loss\u001b[39m.\u001b[39mbackward()\n",
            "\u001b[1;31mKeyboardInterrupt\u001b[0m: "
          ]
        }
      ],
      "source": [
        "# Set random seed\n",
        "# torch.manual_seed(42)\n",
        "EPOCHS = 50\n",
        "\n",
        "# Start the timer\n",
        "from timeit import default_timer as timer\n",
        "start_time = timer()\n",
        "\n",
        "# Train model\n",
        "model_results = train(model = model,\n",
        "                      train_dataloader = train_dataloader,\n",
        "                      test_dataloader = test_dataloader,\n",
        "                      optimizer = optimizer,\n",
        "                      loss_fn = loss_fn,\n",
        "                      epochs = EPOCHS)\n",
        "\n",
        "# End the timer and print duration of training\n",
        "end_time = timer()\n",
        "print(f'Total Train Time: {end_time - start_time:.3f} seconds')"
      ]
    },
    {
      "cell_type": "markdown",
      "metadata": {
        "id": "dtpCK60sCTrl"
      },
      "source": [
        "Try running more epochs to see better results :)"
      ]
    },
    {
      "cell_type": "markdown",
      "metadata": {
        "id": "looHikNshVqR"
      },
      "source": [
        "## 9. Plot `loss curves` and `accuracy curves`"
      ]
    },
    {
      "cell_type": "code",
      "execution_count": 60,
      "metadata": {
        "colab": {
          "base_uri": "https://localhost:8080/"
        },
        "id": "M9vQbcRytWWK",
        "outputId": "6cfaa59a-6f82-49ad-ab70-0e8f41c95f1a"
      },
      "outputs": [
        {
          "ename": "NameError",
          "evalue": "name 'model_results' is not defined",
          "output_type": "error",
          "traceback": [
            "\u001b[1;31m---------------------------------------------------------------------------\u001b[0m",
            "\u001b[1;31mNameError\u001b[0m                                 Traceback (most recent call last)",
            "Cell \u001b[1;32mIn[60], line 2\u001b[0m\n\u001b[0;32m      1\u001b[0m \u001b[39m# Get the model key results\u001b[39;00m\n\u001b[1;32m----> 2\u001b[0m model_results\u001b[39m.\u001b[39mkeys()\n",
            "\u001b[1;31mNameError\u001b[0m: name 'model_results' is not defined"
          ]
        }
      ],
      "source": [
        "# Get the model key results\n",
        "model_results.keys()"
      ]
    },
    {
      "cell_type": "code",
      "execution_count": null,
      "metadata": {
        "id": "T4wu3eHG1l-E"
      },
      "outputs": [],
      "source": [
        "def plot_loss_curves(results):\n",
        "    \"\"\" Plots training curves of a results dictionary \"\"\"\n",
        "\n",
        "    # Get results dictionary (training and test)\n",
        "    loss = results['train_loss']\n",
        "    test_loss = results['test_loss']\n",
        "    accuracy = results['train_acc']\n",
        "    test_accuracy = results['test_acc']\n",
        "\n",
        "    epochs = range(len(results['train_loss']))\n",
        "\n",
        "    plt.figure(figsize=(15, 4))\n",
        "\n",
        "    # Plot loss\n",
        "    plt.subplot(1, 2, 1)\n",
        "    plt.plot(epochs, loss, label='train_loss')\n",
        "    plt.plot(epochs, test_loss, label='test_loss')\n",
        "    plt.title('Loss')\n",
        "    plt.xlabel('Epochs')\n",
        "    plt.legend()\n",
        "\n",
        "    # Plot accuracy\n",
        "    plt.subplot(1, 2, 2)\n",
        "    plt.plot(epochs, accuracy, label='train_accuracy')\n",
        "    plt.plot(epochs, test_accuracy, label='test_accuracy')\n",
        "    plt.title('Accuracy')\n",
        "    plt.xlabel('Epochs')\n",
        "    plt.legend();"
      ]
    },
    {
      "cell_type": "code",
      "execution_count": 61,
      "metadata": {
        "colab": {
          "base_uri": "https://localhost:8080/",
          "height": 410
        },
        "id": "fVroT4LN10HY",
        "outputId": "c75d9ba0-1c37-45de-dfb3-5467fe5a489e"
      },
      "outputs": [
        {
          "ename": "NameError",
          "evalue": "name 'plot_loss_curves' is not defined",
          "output_type": "error",
          "traceback": [
            "\u001b[1;31m---------------------------------------------------------------------------\u001b[0m",
            "\u001b[1;31mNameError\u001b[0m                                 Traceback (most recent call last)",
            "Cell \u001b[1;32mIn[61], line 1\u001b[0m\n\u001b[1;32m----> 1\u001b[0m plot_loss_curves(model_results)\n",
            "\u001b[1;31mNameError\u001b[0m: name 'plot_loss_curves' is not defined"
          ]
        }
      ],
      "source": [
        "plot_loss_curves(model_results)"
      ]
    },
    {
      "cell_type": "markdown",
      "metadata": {
        "id": "eVnCZP2B6toh"
      },
      "source": [
        "## 10. Saving Model"
      ]
    },
    {
      "cell_type": "code",
      "execution_count": null,
      "metadata": {
        "colab": {
          "base_uri": "https://localhost:8080/"
        },
        "id": "P9eQMwEK5gCX",
        "outputId": "08bbafdc-5a15-47bc-ef58-1600b326a75a"
      },
      "outputs": [
        {
          "name": "stdout",
          "output_type": "stream",
          "text": [
            "Saving model to: models/MultipleEyeDiseaseDetectModel.pth\n"
          ]
        }
      ],
      "source": [
        "from pathlib import Path\n",
        "\n",
        "MODEL_PATH = Path(\"models\")\n",
        "MODEL_PATH.mkdir(parents=True,\n",
        "                 exist_ok=True)\n",
        "\n",
        "# Create model save path\n",
        "MODEL_NAME = \"MultipleEyeDiseaseDetectModel.pth\"\n",
        "MODEL_SAVE_PATH = MODEL_PATH / MODEL_NAME\n",
        "\n",
        "# Save the model state dict\n",
        "print(f\"Saving model to: {MODEL_SAVE_PATH}\")\n",
        "torch.save(obj=model.state_dict(),\n",
        "           f=MODEL_SAVE_PATH)"
      ]
    },
    {
      "cell_type": "markdown",
      "metadata": {
        "id": "gUh8Xwrq7MBL"
      },
      "source": [
        "## 11. Loading Model"
      ]
    },
    {
      "cell_type": "code",
      "execution_count": 8,
      "metadata": {
        "colab": {
          "base_uri": "https://localhost:8080/"
        },
        "id": "DGLcoLa58aB8",
        "outputId": "3108b767-78c9-4a30-9f31-0f85db773e8a"
      },
      "outputs": [
        {
          "ename": "NameError",
          "evalue": "name 'Path' is not defined",
          "output_type": "error",
          "traceback": [
            "\u001b[1;31m---------------------------------------------------------------------------\u001b[0m",
            "\u001b[1;31mNameError\u001b[0m                                 Traceback (most recent call last)",
            "Cell \u001b[1;32mIn[8], line 1\u001b[0m\n\u001b[1;32m----> 1\u001b[0m MODEL_SAVE_PATH \u001b[39m=\u001b[39m Path(\u001b[39m\"\u001b[39m\u001b[39mC:/Users/siman/OneDrive/Desktop/New 8th sem Project/model.pth\u001b[39m\u001b[39m\"\u001b[39m)\n\u001b[0;32m      2\u001b[0m loaded_model \u001b[39m=\u001b[39m ImprovedTinyVGGModel(\u001b[39m3\u001b[39m, \u001b[39m48\u001b[39m, \u001b[39m6\u001b[39m)\u001b[39m.\u001b[39mto(\u001b[39m'\u001b[39m\u001b[39mcpu\u001b[39m\u001b[39m'\u001b[39m)\n\u001b[0;32m      3\u001b[0m loaded_model\u001b[39m.\u001b[39mload_state_dict(torch\u001b[39m.\u001b[39mload(f\u001b[39m=\u001b[39mMODEL_SAVE_PATH))\n",
            "\u001b[1;31mNameError\u001b[0m: name 'Path' is not defined"
          ]
        }
      ],
      "source": [
        "MODEL_SAVE_PATH = Path(\"C:/Users/siman/OneDrive/Desktop/New 8th sem Project/model.pth\")\n",
        "loaded_model = ImprovedTinyVGGModel(3, 48, 6).to('cpu')\n",
        "loaded_model.load_state_dict(torch.load(f=MODEL_SAVE_PATH))\n",
        "\n",
        "print(f\"Loaded model:\\n{loaded_model}\")\n",
        "print(f\"Model on device:\\n{next(loaded_model.parameters()).device}\")"
      ]
    },
    {
      "cell_type": "markdown",
      "metadata": {
        "id": "7GsxIITFCt8I"
      },
      "source": [
        "## 12. Making Predictions on Loaded Model"
      ]
    },
    {
      "cell_type": "code",
      "execution_count": null,
      "metadata": {
        "id": "yfcMPwgN9QjN"
      },
      "outputs": [],
      "source": [
        "def make_predictions(model, data, device):\n",
        "  pred_probs = []\n",
        "  model.to(device)\n",
        "  model.eval()\n",
        "  with torch.inference_mode():\n",
        "    for sample in data:\n",
        "      sample = torch.unsqueeze(sample, dim = 0).to(device)\n",
        "      pred_logit = model(sample)\n",
        "      pred_prob = torch.softmax(pred_logit.squeeze(), dim = 0)\n",
        "      pred_probs.append(pred_prob.cpu())\n",
        "\n",
        "  return torch.stack(pred_probs)"
      ]
    },
    {
      "cell_type": "code",
      "execution_count": null,
      "metadata": {
        "id": "5sIZppTG9beE"
      },
      "outputs": [],
      "source": [
        "import random\n",
        "# random.seed(42)\n",
        "\n",
        "test_samples = []\n",
        "test_labels = []\n",
        "# test_targets_tensor = torch.tensor(test_data.targets)\n",
        "for sample, label in random.sample(list(test_data), k = 20):\n",
        "  test_samples.append(sample)\n",
        "  test_labels.append(label)"
      ]
    },
    {
      "cell_type": "code",
      "execution_count": null,
      "metadata": {
        "colab": {
          "base_uri": "https://localhost:8080/"
        },
        "id": "xJQr0_8O9q64",
        "outputId": "e8f87474-160d-4a38-b5e4-d2f6c0505885"
      },
      "outputs": [
        {
          "data": {
            "text/plain": [
              "torch.Size([3, 224, 224])"
            ]
          },
          "execution_count": 35,
          "metadata": {},
          "output_type": "execute_result"
        }
      ],
      "source": [
        "test_samples[0].shape"
      ]
    },
    {
      "cell_type": "code",
      "execution_count": null,
      "metadata": {
        "id": "cPbV-AJV9tjv"
      },
      "outputs": [],
      "source": [
        "loaded_pred_probs = make_predictions(loaded_model,\n",
        "                                     test_samples,\n",
        "                                     device)\n",
        "\n",
        "loaded_pred_classes = loaded_pred_probs.argmax(dim = 1)"
      ]
    },
    {
      "cell_type": "code",
      "execution_count": 1,
      "metadata": {
        "colab": {
          "base_uri": "https://localhost:8080/",
          "height": 788
        },
        "id": "00Ks-15A90Tb",
        "outputId": "ba42708f-3cec-4737-9184-82fb4cd5200a"
      },
      "outputs": [
        {
          "ename": "NameError",
          "evalue": "name 'plt' is not defined",
          "output_type": "error",
          "traceback": [
            "\u001b[1;31m---------------------------------------------------------------------------\u001b[0m",
            "\u001b[1;31mNameError\u001b[0m                                 Traceback (most recent call last)",
            "Cell \u001b[1;32mIn[1], line 1\u001b[0m\n\u001b[1;32m----> 1\u001b[0m plt\u001b[39m.\u001b[39mfigure(figsize\u001b[39m=\u001b[39m(\u001b[39m16\u001b[39m, \u001b[39m12\u001b[39m))\n\u001b[0;32m      2\u001b[0m nrows, ncols \u001b[39m=\u001b[39m \u001b[39m5\u001b[39m, \u001b[39m5\u001b[39m\n\u001b[0;32m      4\u001b[0m \u001b[39mfor\u001b[39;00m i, sample \u001b[39min\u001b[39;00m \u001b[39menumerate\u001b[39m(test_samples):\n",
            "\u001b[1;31mNameError\u001b[0m: name 'plt' is not defined"
          ]
        }
      ],
      "source": [
        "plt.figure(figsize=(16, 12))\n",
        "nrows, ncols = 5, 5\n",
        "\n",
        "for i, sample in enumerate(test_samples):\n",
        "  class_name = np.array(['amd', 'cataract', 'glucoma', 'myopia', 'noneye', 'normal'])\n",
        "  plt.subplot(nrows, ncols, i + 1)\n",
        "  normalized_sample = sample.permute(1, 2, 0).numpy()\n",
        "  # normalized_sample = normalized_sample / 255.0\n",
        "  plt.imshow(normalized_sample)\n",
        "\n",
        "  pred_label = class_name[loaded_pred_classes[i]]\n",
        "  truth_label = class_name[test_labels[i]]\n",
        "  title_text = f\"Pred: {pred_label} | Truth: {truth_label}\"\n",
        "\n",
        "  if pred_label == truth_label:\n",
        "      plt.title(title_text, fontsize=9, c=\"g\")\n",
        "  else:\n",
        "      plt.title(title_text, fontsize=9, c=\"r\")\n",
        "\n",
        "  plt.axis(False);"
      ]
    }
  ],
  "metadata": {
    "accelerator": "GPU",
    "colab": {
      "gpuType": "T4",
      "provenance": []
    },
    "kernelspec": {
      "display_name": "Python 3",
      "name": "python3"
    },
    "language_info": {
      "codemirror_mode": {
        "name": "ipython",
        "version": 3
      },
      "file_extension": ".py",
      "mimetype": "text/x-python",
      "name": "python",
      "nbconvert_exporter": "python",
      "pygments_lexer": "ipython3",
      "version": "3.11.5"
    },
    "widgets": {
      "application/vnd.jupyter.widget-state+json": {
        "3b046b4ec3e64be68b8a118491228f2f": {
          "model_module": "@jupyter-widgets/controls",
          "model_module_version": "1.5.0",
          "model_name": "HBoxModel",
          "state": {
            "_dom_classes": [],
            "_model_module": "@jupyter-widgets/controls",
            "_model_module_version": "1.5.0",
            "_model_name": "HBoxModel",
            "_view_count": null,
            "_view_module": "@jupyter-widgets/controls",
            "_view_module_version": "1.5.0",
            "_view_name": "HBoxView",
            "box_style": "",
            "children": [
              "IPY_MODEL_9b3fd2ad59f245c98cbbe96dc5cb7bcd",
              "IPY_MODEL_6a47699299c5466e94d991f6c86dc505",
              "IPY_MODEL_5722d02650834ad8a0efa3d0b87adc4a"
            ],
            "layout": "IPY_MODEL_f5898bb152004677a49f0615e5110b35"
          }
        },
        "5722d02650834ad8a0efa3d0b87adc4a": {
          "model_module": "@jupyter-widgets/controls",
          "model_module_version": "1.5.0",
          "model_name": "HTMLModel",
          "state": {
            "_dom_classes": [],
            "_model_module": "@jupyter-widgets/controls",
            "_model_module_version": "1.5.0",
            "_model_name": "HTMLModel",
            "_view_count": null,
            "_view_module": "@jupyter-widgets/controls",
            "_view_module_version": "1.5.0",
            "_view_name": "HTMLView",
            "description": "",
            "description_tooltip": null,
            "layout": "IPY_MODEL_fb57e83523cc46e08ff2ed9c4e70c404",
            "placeholder": "​",
            "style": "IPY_MODEL_93d7239388be41e697b2073a7ef01890",
            "value": " 5/5 [10:13&lt;00:00, 123.26s/it]"
          }
        },
        "6a47699299c5466e94d991f6c86dc505": {
          "model_module": "@jupyter-widgets/controls",
          "model_module_version": "1.5.0",
          "model_name": "FloatProgressModel",
          "state": {
            "_dom_classes": [],
            "_model_module": "@jupyter-widgets/controls",
            "_model_module_version": "1.5.0",
            "_model_name": "FloatProgressModel",
            "_view_count": null,
            "_view_module": "@jupyter-widgets/controls",
            "_view_module_version": "1.5.0",
            "_view_name": "ProgressView",
            "bar_style": "success",
            "description": "",
            "description_tooltip": null,
            "layout": "IPY_MODEL_a71c03b627f747b4a22a33d706364e6a",
            "max": 5,
            "min": 0,
            "orientation": "horizontal",
            "style": "IPY_MODEL_e11b282bb68248da86e76a29b359dff2",
            "value": 5
          }
        },
        "860b2e52d20b4457ac41448e1a851523": {
          "model_module": "@jupyter-widgets/controls",
          "model_module_version": "1.5.0",
          "model_name": "DescriptionStyleModel",
          "state": {
            "_model_module": "@jupyter-widgets/controls",
            "_model_module_version": "1.5.0",
            "_model_name": "DescriptionStyleModel",
            "_view_count": null,
            "_view_module": "@jupyter-widgets/base",
            "_view_module_version": "1.2.0",
            "_view_name": "StyleView",
            "description_width": ""
          }
        },
        "93d7239388be41e697b2073a7ef01890": {
          "model_module": "@jupyter-widgets/controls",
          "model_module_version": "1.5.0",
          "model_name": "DescriptionStyleModel",
          "state": {
            "_model_module": "@jupyter-widgets/controls",
            "_model_module_version": "1.5.0",
            "_model_name": "DescriptionStyleModel",
            "_view_count": null,
            "_view_module": "@jupyter-widgets/base",
            "_view_module_version": "1.2.0",
            "_view_name": "StyleView",
            "description_width": ""
          }
        },
        "9b3fd2ad59f245c98cbbe96dc5cb7bcd": {
          "model_module": "@jupyter-widgets/controls",
          "model_module_version": "1.5.0",
          "model_name": "HTMLModel",
          "state": {
            "_dom_classes": [],
            "_model_module": "@jupyter-widgets/controls",
            "_model_module_version": "1.5.0",
            "_model_name": "HTMLModel",
            "_view_count": null,
            "_view_module": "@jupyter-widgets/controls",
            "_view_module_version": "1.5.0",
            "_view_name": "HTMLView",
            "description": "",
            "description_tooltip": null,
            "layout": "IPY_MODEL_db68390cec4247f1821f2413da9aea66",
            "placeholder": "​",
            "style": "IPY_MODEL_860b2e52d20b4457ac41448e1a851523",
            "value": "100%"
          }
        },
        "a71c03b627f747b4a22a33d706364e6a": {
          "model_module": "@jupyter-widgets/base",
          "model_module_version": "1.2.0",
          "model_name": "LayoutModel",
          "state": {
            "_model_module": "@jupyter-widgets/base",
            "_model_module_version": "1.2.0",
            "_model_name": "LayoutModel",
            "_view_count": null,
            "_view_module": "@jupyter-widgets/base",
            "_view_module_version": "1.2.0",
            "_view_name": "LayoutView",
            "align_content": null,
            "align_items": null,
            "align_self": null,
            "border": null,
            "bottom": null,
            "display": null,
            "flex": null,
            "flex_flow": null,
            "grid_area": null,
            "grid_auto_columns": null,
            "grid_auto_flow": null,
            "grid_auto_rows": null,
            "grid_column": null,
            "grid_gap": null,
            "grid_row": null,
            "grid_template_areas": null,
            "grid_template_columns": null,
            "grid_template_rows": null,
            "height": null,
            "justify_content": null,
            "justify_items": null,
            "left": null,
            "margin": null,
            "max_height": null,
            "max_width": null,
            "min_height": null,
            "min_width": null,
            "object_fit": null,
            "object_position": null,
            "order": null,
            "overflow": null,
            "overflow_x": null,
            "overflow_y": null,
            "padding": null,
            "right": null,
            "top": null,
            "visibility": null,
            "width": null
          }
        },
        "db68390cec4247f1821f2413da9aea66": {
          "model_module": "@jupyter-widgets/base",
          "model_module_version": "1.2.0",
          "model_name": "LayoutModel",
          "state": {
            "_model_module": "@jupyter-widgets/base",
            "_model_module_version": "1.2.0",
            "_model_name": "LayoutModel",
            "_view_count": null,
            "_view_module": "@jupyter-widgets/base",
            "_view_module_version": "1.2.0",
            "_view_name": "LayoutView",
            "align_content": null,
            "align_items": null,
            "align_self": null,
            "border": null,
            "bottom": null,
            "display": null,
            "flex": null,
            "flex_flow": null,
            "grid_area": null,
            "grid_auto_columns": null,
            "grid_auto_flow": null,
            "grid_auto_rows": null,
            "grid_column": null,
            "grid_gap": null,
            "grid_row": null,
            "grid_template_areas": null,
            "grid_template_columns": null,
            "grid_template_rows": null,
            "height": null,
            "justify_content": null,
            "justify_items": null,
            "left": null,
            "margin": null,
            "max_height": null,
            "max_width": null,
            "min_height": null,
            "min_width": null,
            "object_fit": null,
            "object_position": null,
            "order": null,
            "overflow": null,
            "overflow_x": null,
            "overflow_y": null,
            "padding": null,
            "right": null,
            "top": null,
            "visibility": null,
            "width": null
          }
        },
        "e11b282bb68248da86e76a29b359dff2": {
          "model_module": "@jupyter-widgets/controls",
          "model_module_version": "1.5.0",
          "model_name": "ProgressStyleModel",
          "state": {
            "_model_module": "@jupyter-widgets/controls",
            "_model_module_version": "1.5.0",
            "_model_name": "ProgressStyleModel",
            "_view_count": null,
            "_view_module": "@jupyter-widgets/base",
            "_view_module_version": "1.2.0",
            "_view_name": "StyleView",
            "bar_color": null,
            "description_width": ""
          }
        },
        "f5898bb152004677a49f0615e5110b35": {
          "model_module": "@jupyter-widgets/base",
          "model_module_version": "1.2.0",
          "model_name": "LayoutModel",
          "state": {
            "_model_module": "@jupyter-widgets/base",
            "_model_module_version": "1.2.0",
            "_model_name": "LayoutModel",
            "_view_count": null,
            "_view_module": "@jupyter-widgets/base",
            "_view_module_version": "1.2.0",
            "_view_name": "LayoutView",
            "align_content": null,
            "align_items": null,
            "align_self": null,
            "border": null,
            "bottom": null,
            "display": null,
            "flex": null,
            "flex_flow": null,
            "grid_area": null,
            "grid_auto_columns": null,
            "grid_auto_flow": null,
            "grid_auto_rows": null,
            "grid_column": null,
            "grid_gap": null,
            "grid_row": null,
            "grid_template_areas": null,
            "grid_template_columns": null,
            "grid_template_rows": null,
            "height": null,
            "justify_content": null,
            "justify_items": null,
            "left": null,
            "margin": null,
            "max_height": null,
            "max_width": null,
            "min_height": null,
            "min_width": null,
            "object_fit": null,
            "object_position": null,
            "order": null,
            "overflow": null,
            "overflow_x": null,
            "overflow_y": null,
            "padding": null,
            "right": null,
            "top": null,
            "visibility": null,
            "width": null
          }
        },
        "fb57e83523cc46e08ff2ed9c4e70c404": {
          "model_module": "@jupyter-widgets/base",
          "model_module_version": "1.2.0",
          "model_name": "LayoutModel",
          "state": {
            "_model_module": "@jupyter-widgets/base",
            "_model_module_version": "1.2.0",
            "_model_name": "LayoutModel",
            "_view_count": null,
            "_view_module": "@jupyter-widgets/base",
            "_view_module_version": "1.2.0",
            "_view_name": "LayoutView",
            "align_content": null,
            "align_items": null,
            "align_self": null,
            "border": null,
            "bottom": null,
            "display": null,
            "flex": null,
            "flex_flow": null,
            "grid_area": null,
            "grid_auto_columns": null,
            "grid_auto_flow": null,
            "grid_auto_rows": null,
            "grid_column": null,
            "grid_gap": null,
            "grid_row": null,
            "grid_template_areas": null,
            "grid_template_columns": null,
            "grid_template_rows": null,
            "height": null,
            "justify_content": null,
            "justify_items": null,
            "left": null,
            "margin": null,
            "max_height": null,
            "max_width": null,
            "min_height": null,
            "min_width": null,
            "object_fit": null,
            "object_position": null,
            "order": null,
            "overflow": null,
            "overflow_x": null,
            "overflow_y": null,
            "padding": null,
            "right": null,
            "top": null,
            "visibility": null,
            "width": null
          }
        }
      }
    }
  },
  "nbformat": 4,
  "nbformat_minor": 0
}
